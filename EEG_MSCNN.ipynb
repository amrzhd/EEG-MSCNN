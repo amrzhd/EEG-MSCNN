{
  "nbformat": 4,
  "nbformat_minor": 0,
  "metadata": {
    "colab": {
      "provenance": [],
      "gpuType": "T4",
      "collapsed_sections": [
        "xyXDZiZ4E4a_",
        "7F1-smxGExft",
        "Q0wNQ0O8FnZ6",
        "SSJmDY98Fsf5"
      ],
      "include_colab_link": true
    },
    "kernelspec": {
      "name": "python3",
      "display_name": "Python 3"
    },
    "language_info": {
      "name": "python"
    },
    "accelerator": "GPU"
  },
  "cells": [
    {
      "cell_type": "markdown",
      "metadata": {
        "id": "view-in-github",
        "colab_type": "text"
      },
      "source": [
        "<a href=\"https://colab.research.google.com/github/amrzhd/EEG-MSCNN/blob/main/EEG_MSCNN.ipynb\" target=\"_parent\"><img src=\"https://colab.research.google.com/assets/colab-badge.svg\" alt=\"Open In Colab\"/></a>"
      ]
    },
    {
      "cell_type": "markdown",
      "source": [
        "#Comparing Feature Extraction of EEGNet & MSTANN\n"
      ],
      "metadata": {
        "id": "x_5wKiVyBTzL"
      }
    },
    {
      "cell_type": "markdown",
      "source": [
        "#Extracting Data"
      ],
      "metadata": {
        "id": "O-3Lg9veBge0"
      }
    },
    {
      "cell_type": "markdown",
      "source": [
        "##Downloading BCI Competition IV 2a Dataset"
      ],
      "metadata": {
        "id": "W4JrI64nBl52"
      }
    },
    {
      "cell_type": "code",
      "execution_count": null,
      "metadata": {
        "id": "_6jNZi8rBNjN",
        "colab": {
          "base_uri": "https://localhost:8080/"
        },
        "outputId": "6ca67963-0ab8-4d78-e2f3-077438cc3af4"
      },
      "outputs": [
        {
          "output_type": "stream",
          "name": "stdout",
          "text": [
            "--2024-08-14 09:16:56--  https://www.bbci.de/competition/download/competition_iv/BCICIV_2a_gdf.zip\n",
            "Resolving www.bbci.de (www.bbci.de)... 130.149.80.149\n",
            "Connecting to www.bbci.de (www.bbci.de)|130.149.80.149|:443... connected.\n",
            "HTTP request sent, awaiting response... 200 OK\n",
            "Length: 439968864 (420M) [application/zip]\n",
            "Saving to: ‘BCICIV_2a_gdf.zip’\n",
            "\n",
            "BCICIV_2a_gdf.zip   100%[===================>] 419.59M  20.8MB/s    in 22s     \n",
            "\n",
            "2024-08-14 09:17:18 (19.2 MB/s) - ‘BCICIV_2a_gdf.zip’ saved [439968864/439968864]\n",
            "\n"
          ]
        }
      ],
      "source": [
        "!wget https://www.bbci.de/competition/download/competition_iv/BCICIV_2a_gdf.zip"
      ]
    },
    {
      "cell_type": "code",
      "source": [
        "!mkdir -p /content/cleaned_data/"
      ],
      "metadata": {
        "id": "5DbydQswB27q"
      },
      "execution_count": null,
      "outputs": []
    },
    {
      "cell_type": "code",
      "source": [
        "%%capture\n",
        "!unzip /content/BCICIV_2a_gdf.zip -d raw_data"
      ],
      "metadata": {
        "id": "50hgj12yB54U"
      },
      "execution_count": null,
      "outputs": []
    },
    {
      "cell_type": "markdown",
      "source": [
        "#Installing Packages"
      ],
      "metadata": {
        "id": "Y_mkff9aB-9w"
      }
    },
    {
      "cell_type": "code",
      "source": [
        "%%capture\n",
        "!pip install mne"
      ],
      "metadata": {
        "id": "mqHVmwYyCBsB"
      },
      "execution_count": null,
      "outputs": []
    },
    {
      "cell_type": "code",
      "source": [
        "%%capture\n",
        "!pip install torch-summary"
      ],
      "metadata": {
        "id": "ueJFbf8KCCPw"
      },
      "execution_count": null,
      "outputs": []
    },
    {
      "cell_type": "code",
      "source": [
        "%%capture\n",
        "!pip install captum"
      ],
      "metadata": {
        "id": "EXIevTlXGl-z"
      },
      "execution_count": null,
      "outputs": []
    },
    {
      "cell_type": "markdown",
      "source": [
        "#Libraries Used"
      ],
      "metadata": {
        "id": "crxgIV9ICD2T"
      }
    },
    {
      "cell_type": "code",
      "source": [
        "import os\n",
        "import mne\n",
        "import math\n",
        "import copy\n",
        "import gdown\n",
        "import random\n",
        "import scipy.io\n",
        "import numpy as np\n",
        "import pandas as pd\n",
        "import seaborn as sn\n",
        "import matplotlib.pyplot as plt\n",
        "from captum.attr import DeepLift\n",
        "\n",
        "# Torch\n",
        "import torch\n",
        "import torch.nn as nn\n",
        "import torch.optim as optim\n",
        "import torch.nn.functional as F\n",
        "from torchsummary import summary\n",
        "from torch.autograd import Variable\n",
        "from torch.utils.data import DataLoader, TensorDataset, random_split\n",
        "\n",
        "# Scikit-Learn\n",
        "from sklearn.manifold import TSNE\n",
        "from sklearn.decomposition import PCA\n",
        "from sklearn.feature_selection import mutual_info_classif\n",
        "from sklearn.metrics import confusion_matrix, accuracy_score\n",
        "from sklearn.model_selection import train_test_split"
      ],
      "metadata": {
        "id": "CEp96MytCGei"
      },
      "execution_count": null,
      "outputs": []
    },
    {
      "cell_type": "markdown",
      "source": [
        "# Building Dataset"
      ],
      "metadata": {
        "id": "nn8IHP2_CQbH"
      }
    },
    {
      "cell_type": "code",
      "source": [
        "!mkdir -p /content/cleaned_data/first_session\n",
        "!mkdir -p /content/cleaned_data/second_session"
      ],
      "metadata": {
        "id": "JFtUH89-G48b"
      },
      "execution_count": null,
      "outputs": []
    },
    {
      "cell_type": "markdown",
      "source": [
        "##First Session"
      ],
      "metadata": {
        "id": "f6Bmm_acGc4g"
      }
    },
    {
      "cell_type": "code",
      "source": [
        "raw_data_folder = '/content/raw_data/'\n",
        "cleaned_data_folder = '/content/cleaned_data/first_session/'\n",
        "files = os.listdir(raw_data_folder)\n",
        "\n",
        "# Selecting files with suffix 'T.gdf'\n",
        "filtered_files = [file for file in files if file.endswith('T.gdf')]\n",
        "\n",
        "raw_list = []\n",
        "\n",
        "# Iterating through filtered files\n",
        "for file in filtered_files:\n",
        "    file_path = os.path.join(raw_data_folder, file)\n",
        "\n",
        "    # Reading raw data\n",
        "    raw = mne.io.read_raw_gdf(file_path, eog=['EOG-left', 'EOG-central', 'EOG-right'], preload=True)\n",
        "    # Droping EOG channels\n",
        "    raw.drop_channels(['EOG-left', 'EOG-central', 'EOG-right'])\n",
        "\n",
        "    # High Pass Filtering 4-40 Hz\n",
        "    raw.filter(l_freq=4, h_freq=40, method='iir')\n",
        "\n",
        "    # Notch filter for Removal of Line Voltage\n",
        "    raw.notch_filter(freqs=50)\n",
        "\n",
        "    # Saving the modified raw data to a file with .fif suffix\n",
        "    new_file_path = os.path.join(cleaned_data_folder, file[:-4] + '.fif')\n",
        "    raw.save(new_file_path, overwrite=True)\n",
        "    # Appending data to the list\n",
        "    raw_list.append(raw)\n",
        "\n",
        "final_raw = mne.concatenate_raws(raw_list)\n",
        "new_file_path = os.path.join(cleaned_data_folder, 'First_Session_Subjects.fif')\n",
        "final_raw.save(new_file_path, overwrite=True)\n"
      ],
      "metadata": {
        "id": "X6ViqHGaCUWY",
        "colab": {
          "base_uri": "https://localhost:8080/"
        },
        "outputId": "c75c1de5-a2f1-4d7e-d402-8e4497372b67"
      },
      "execution_count": null,
      "outputs": [
        {
          "output_type": "stream",
          "name": "stdout",
          "text": [
            "Extracting EDF parameters from /content/raw_data/A06T.gdf...\n",
            "GDF file detected\n",
            "Setting channel info structure...\n",
            "Could not determine channel type of the following channels, they will be set as EEG:\n",
            "EEG-Fz, EEG, EEG, EEG, EEG, EEG, EEG, EEG-C3, EEG, EEG-Cz, EEG, EEG-C4, EEG, EEG, EEG, EEG, EEG, EEG, EEG, EEG-Pz, EEG, EEG\n",
            "Creating raw.info structure...\n"
          ]
        },
        {
          "output_type": "stream",
          "name": "stderr",
          "text": [
            "/usr/lib/python3.10/contextlib.py:142: RuntimeWarning: Channel names are not unique, found duplicates for: {'EEG'}. Applying running numbers for duplicates.\n",
            "  next(self.gen)\n"
          ]
        },
        {
          "output_type": "stream",
          "name": "stdout",
          "text": [
            "Reading 0 ... 678979  =      0.000 ...  2715.916 secs...\n",
            "Filtering raw data in 1 contiguous segment\n",
            "Setting up band-pass filter from 4 - 40 Hz\n",
            "\n",
            "IIR filter parameters\n",
            "---------------------\n",
            "Butterworth bandpass zero-phase (two-pass forward and reverse) non-causal filter:\n",
            "- Filter order 16 (effective, after forward-backward)\n",
            "- Cutoffs at 4.00, 40.00 Hz: -6.02, -6.02 dB\n",
            "\n",
            "Filtering raw data in 1 contiguous segment\n",
            "Setting up band-stop filter from 49 - 51 Hz\n",
            "\n",
            "FIR filter parameters\n",
            "---------------------\n",
            "Designing a one-pass, zero-phase, non-causal bandstop filter:\n",
            "- Windowed time-domain design (firwin) method\n",
            "- Hamming window with 0.0194 passband ripple and 53 dB stopband attenuation\n",
            "- Lower passband edge: 49.38\n",
            "- Lower transition bandwidth: 0.50 Hz (-6 dB cutoff frequency: 49.12 Hz)\n",
            "- Upper passband edge: 50.62 Hz\n",
            "- Upper transition bandwidth: 0.50 Hz (-6 dB cutoff frequency: 50.88 Hz)\n",
            "- Filter length: 1651 samples (6.604 s)\n",
            "\n",
            "Writing /content/cleaned_data/first_session/A06T.fif\n"
          ]
        },
        {
          "output_type": "stream",
          "name": "stderr",
          "text": [
            "[Parallel(n_jobs=1)]: Done  17 tasks      | elapsed:    0.4s\n",
            "<ipython-input-9-52d09285b9e3>:27: RuntimeWarning: This filename (/content/cleaned_data/first_session/A06T.fif) does not conform to MNE naming conventions. All raw files should end with raw.fif, raw_sss.fif, raw_tsss.fif, _meg.fif, _eeg.fif, _ieeg.fif, raw.fif.gz, raw_sss.fif.gz, raw_tsss.fif.gz, _meg.fif.gz, _eeg.fif.gz or _ieeg.fif.gz\n",
            "  raw.save(new_file_path, overwrite=True)\n"
          ]
        },
        {
          "output_type": "stream",
          "name": "stdout",
          "text": [
            "Closing /content/cleaned_data/first_session/A06T.fif\n",
            "[done]\n",
            "Extracting EDF parameters from /content/raw_data/A08T.gdf...\n",
            "GDF file detected\n",
            "Setting channel info structure...\n",
            "Could not determine channel type of the following channels, they will be set as EEG:\n",
            "EEG-Fz, EEG, EEG, EEG, EEG, EEG, EEG, EEG-C3, EEG, EEG-Cz, EEG, EEG-C4, EEG, EEG, EEG, EEG, EEG, EEG, EEG, EEG-Pz, EEG, EEG\n",
            "Creating raw.info structure...\n",
            "Reading 0 ... 675269  =      0.000 ...  2701.076 secs...\n"
          ]
        },
        {
          "output_type": "stream",
          "name": "stderr",
          "text": [
            "/usr/lib/python3.10/contextlib.py:142: RuntimeWarning: Channel names are not unique, found duplicates for: {'EEG'}. Applying running numbers for duplicates.\n",
            "  next(self.gen)\n"
          ]
        },
        {
          "output_type": "stream",
          "name": "stdout",
          "text": [
            "Filtering raw data in 1 contiguous segment\n",
            "Setting up band-pass filter from 4 - 40 Hz\n",
            "\n",
            "IIR filter parameters\n",
            "---------------------\n",
            "Butterworth bandpass zero-phase (two-pass forward and reverse) non-causal filter:\n",
            "- Filter order 16 (effective, after forward-backward)\n",
            "- Cutoffs at 4.00, 40.00 Hz: -6.02, -6.02 dB\n",
            "\n",
            "Filtering raw data in 1 contiguous segment\n",
            "Setting up band-stop filter from 49 - 51 Hz\n",
            "\n",
            "FIR filter parameters\n",
            "---------------------\n",
            "Designing a one-pass, zero-phase, non-causal bandstop filter:\n",
            "- Windowed time-domain design (firwin) method\n",
            "- Hamming window with 0.0194 passband ripple and 53 dB stopband attenuation\n",
            "- Lower passband edge: 49.38\n",
            "- Lower transition bandwidth: 0.50 Hz (-6 dB cutoff frequency: 49.12 Hz)\n",
            "- Upper passband edge: 50.62 Hz\n",
            "- Upper transition bandwidth: 0.50 Hz (-6 dB cutoff frequency: 50.88 Hz)\n",
            "- Filter length: 1651 samples (6.604 s)\n",
            "\n",
            "Writing /content/cleaned_data/first_session/A08T.fif\n"
          ]
        },
        {
          "output_type": "stream",
          "name": "stderr",
          "text": [
            "[Parallel(n_jobs=1)]: Done  17 tasks      | elapsed:    0.4s\n",
            "<ipython-input-9-52d09285b9e3>:27: RuntimeWarning: This filename (/content/cleaned_data/first_session/A08T.fif) does not conform to MNE naming conventions. All raw files should end with raw.fif, raw_sss.fif, raw_tsss.fif, _meg.fif, _eeg.fif, _ieeg.fif, raw.fif.gz, raw_sss.fif.gz, raw_tsss.fif.gz, _meg.fif.gz, _eeg.fif.gz or _ieeg.fif.gz\n",
            "  raw.save(new_file_path, overwrite=True)\n"
          ]
        },
        {
          "output_type": "stream",
          "name": "stdout",
          "text": [
            "Closing /content/cleaned_data/first_session/A08T.fif\n",
            "[done]\n",
            "Extracting EDF parameters from /content/raw_data/A02T.gdf...\n",
            "GDF file detected\n",
            "Setting channel info structure...\n",
            "Could not determine channel type of the following channels, they will be set as EEG:\n",
            "EEG-Fz, EEG, EEG, EEG, EEG, EEG, EEG, EEG-C3, EEG, EEG-Cz, EEG, EEG-C4, EEG, EEG, EEG, EEG, EEG, EEG, EEG, EEG-Pz, EEG, EEG\n",
            "Creating raw.info structure...\n",
            "Reading 0 ... 677168  =      0.000 ...  2708.672 secs...\n"
          ]
        },
        {
          "output_type": "stream",
          "name": "stderr",
          "text": [
            "/usr/lib/python3.10/contextlib.py:142: RuntimeWarning: Channel names are not unique, found duplicates for: {'EEG'}. Applying running numbers for duplicates.\n",
            "  next(self.gen)\n"
          ]
        },
        {
          "output_type": "stream",
          "name": "stdout",
          "text": [
            "Filtering raw data in 1 contiguous segment\n",
            "Setting up band-pass filter from 4 - 40 Hz\n",
            "\n",
            "IIR filter parameters\n",
            "---------------------\n",
            "Butterworth bandpass zero-phase (two-pass forward and reverse) non-causal filter:\n",
            "- Filter order 16 (effective, after forward-backward)\n",
            "- Cutoffs at 4.00, 40.00 Hz: -6.02, -6.02 dB\n",
            "\n",
            "Filtering raw data in 1 contiguous segment\n",
            "Setting up band-stop filter from 49 - 51 Hz\n",
            "\n",
            "FIR filter parameters\n",
            "---------------------\n",
            "Designing a one-pass, zero-phase, non-causal bandstop filter:\n",
            "- Windowed time-domain design (firwin) method\n",
            "- Hamming window with 0.0194 passband ripple and 53 dB stopband attenuation\n",
            "- Lower passband edge: 49.38\n",
            "- Lower transition bandwidth: 0.50 Hz (-6 dB cutoff frequency: 49.12 Hz)\n",
            "- Upper passband edge: 50.62 Hz\n",
            "- Upper transition bandwidth: 0.50 Hz (-6 dB cutoff frequency: 50.88 Hz)\n",
            "- Filter length: 1651 samples (6.604 s)\n",
            "\n",
            "Writing /content/cleaned_data/first_session/A02T.fif\n"
          ]
        },
        {
          "output_type": "stream",
          "name": "stderr",
          "text": [
            "[Parallel(n_jobs=1)]: Done  17 tasks      | elapsed:    0.4s\n",
            "<ipython-input-9-52d09285b9e3>:27: RuntimeWarning: This filename (/content/cleaned_data/first_session/A02T.fif) does not conform to MNE naming conventions. All raw files should end with raw.fif, raw_sss.fif, raw_tsss.fif, _meg.fif, _eeg.fif, _ieeg.fif, raw.fif.gz, raw_sss.fif.gz, raw_tsss.fif.gz, _meg.fif.gz, _eeg.fif.gz or _ieeg.fif.gz\n",
            "  raw.save(new_file_path, overwrite=True)\n"
          ]
        },
        {
          "output_type": "stream",
          "name": "stdout",
          "text": [
            "Closing /content/cleaned_data/first_session/A02T.fif\n",
            "[done]\n",
            "Extracting EDF parameters from /content/raw_data/A05T.gdf...\n",
            "GDF file detected\n",
            "Setting channel info structure...\n",
            "Could not determine channel type of the following channels, they will be set as EEG:\n",
            "EEG-Fz, EEG, EEG, EEG, EEG, EEG, EEG, EEG-C3, EEG, EEG-Cz, EEG, EEG-C4, EEG, EEG, EEG, EEG, EEG, EEG, EEG, EEG-Pz, EEG, EEG\n",
            "Creating raw.info structure...\n",
            "Reading 0 ... 686119  =      0.000 ...  2744.476 secs...\n"
          ]
        },
        {
          "output_type": "stream",
          "name": "stderr",
          "text": [
            "/usr/lib/python3.10/contextlib.py:142: RuntimeWarning: Channel names are not unique, found duplicates for: {'EEG'}. Applying running numbers for duplicates.\n",
            "  next(self.gen)\n"
          ]
        },
        {
          "output_type": "stream",
          "name": "stdout",
          "text": [
            "Filtering raw data in 1 contiguous segment\n",
            "Setting up band-pass filter from 4 - 40 Hz\n",
            "\n",
            "IIR filter parameters\n",
            "---------------------\n",
            "Butterworth bandpass zero-phase (two-pass forward and reverse) non-causal filter:\n",
            "- Filter order 16 (effective, after forward-backward)\n",
            "- Cutoffs at 4.00, 40.00 Hz: -6.02, -6.02 dB\n",
            "\n",
            "Filtering raw data in 1 contiguous segment\n",
            "Setting up band-stop filter from 49 - 51 Hz\n",
            "\n",
            "FIR filter parameters\n",
            "---------------------\n",
            "Designing a one-pass, zero-phase, non-causal bandstop filter:\n",
            "- Windowed time-domain design (firwin) method\n",
            "- Hamming window with 0.0194 passband ripple and 53 dB stopband attenuation\n",
            "- Lower passband edge: 49.38\n",
            "- Lower transition bandwidth: 0.50 Hz (-6 dB cutoff frequency: 49.12 Hz)\n",
            "- Upper passband edge: 50.62 Hz\n",
            "- Upper transition bandwidth: 0.50 Hz (-6 dB cutoff frequency: 50.88 Hz)\n",
            "- Filter length: 1651 samples (6.604 s)\n",
            "\n",
            "Writing /content/cleaned_data/first_session/A05T.fif\n"
          ]
        },
        {
          "output_type": "stream",
          "name": "stderr",
          "text": [
            "[Parallel(n_jobs=1)]: Done  17 tasks      | elapsed:    0.6s\n",
            "<ipython-input-9-52d09285b9e3>:27: RuntimeWarning: This filename (/content/cleaned_data/first_session/A05T.fif) does not conform to MNE naming conventions. All raw files should end with raw.fif, raw_sss.fif, raw_tsss.fif, _meg.fif, _eeg.fif, _ieeg.fif, raw.fif.gz, raw_sss.fif.gz, raw_tsss.fif.gz, _meg.fif.gz, _eeg.fif.gz or _ieeg.fif.gz\n",
            "  raw.save(new_file_path, overwrite=True)\n"
          ]
        },
        {
          "output_type": "stream",
          "name": "stdout",
          "text": [
            "Closing /content/cleaned_data/first_session/A05T.fif\n",
            "[done]\n",
            "Extracting EDF parameters from /content/raw_data/A01T.gdf...\n",
            "GDF file detected\n",
            "Setting channel info structure...\n",
            "Could not determine channel type of the following channels, they will be set as EEG:\n",
            "EEG-Fz, EEG, EEG, EEG, EEG, EEG, EEG, EEG-C3, EEG, EEG-Cz, EEG, EEG-C4, EEG, EEG, EEG, EEG, EEG, EEG, EEG, EEG-Pz, EEG, EEG\n",
            "Creating raw.info structure...\n",
            "Reading 0 ... 672527  =      0.000 ...  2690.108 secs...\n"
          ]
        },
        {
          "output_type": "stream",
          "name": "stderr",
          "text": [
            "/usr/lib/python3.10/contextlib.py:142: RuntimeWarning: Channel names are not unique, found duplicates for: {'EEG'}. Applying running numbers for duplicates.\n",
            "  next(self.gen)\n"
          ]
        },
        {
          "output_type": "stream",
          "name": "stdout",
          "text": [
            "Filtering raw data in 1 contiguous segment\n",
            "Setting up band-pass filter from 4 - 40 Hz\n",
            "\n",
            "IIR filter parameters\n",
            "---------------------\n",
            "Butterworth bandpass zero-phase (two-pass forward and reverse) non-causal filter:\n",
            "- Filter order 16 (effective, after forward-backward)\n",
            "- Cutoffs at 4.00, 40.00 Hz: -6.02, -6.02 dB\n",
            "\n",
            "Filtering raw data in 1 contiguous segment\n",
            "Setting up band-stop filter from 49 - 51 Hz\n",
            "\n",
            "FIR filter parameters\n",
            "---------------------\n",
            "Designing a one-pass, zero-phase, non-causal bandstop filter:\n",
            "- Windowed time-domain design (firwin) method\n",
            "- Hamming window with 0.0194 passband ripple and 53 dB stopband attenuation\n",
            "- Lower passband edge: 49.38\n",
            "- Lower transition bandwidth: 0.50 Hz (-6 dB cutoff frequency: 49.12 Hz)\n",
            "- Upper passband edge: 50.62 Hz\n",
            "- Upper transition bandwidth: 0.50 Hz (-6 dB cutoff frequency: 50.88 Hz)\n",
            "- Filter length: 1651 samples (6.604 s)\n",
            "\n",
            "Writing /content/cleaned_data/first_session/A01T.fif\n"
          ]
        },
        {
          "output_type": "stream",
          "name": "stderr",
          "text": [
            "[Parallel(n_jobs=1)]: Done  17 tasks      | elapsed:    0.4s\n",
            "<ipython-input-9-52d09285b9e3>:27: RuntimeWarning: This filename (/content/cleaned_data/first_session/A01T.fif) does not conform to MNE naming conventions. All raw files should end with raw.fif, raw_sss.fif, raw_tsss.fif, _meg.fif, _eeg.fif, _ieeg.fif, raw.fif.gz, raw_sss.fif.gz, raw_tsss.fif.gz, _meg.fif.gz, _eeg.fif.gz or _ieeg.fif.gz\n",
            "  raw.save(new_file_path, overwrite=True)\n"
          ]
        },
        {
          "output_type": "stream",
          "name": "stdout",
          "text": [
            "Closing /content/cleaned_data/first_session/A01T.fif\n",
            "[done]\n",
            "Extracting EDF parameters from /content/raw_data/A07T.gdf...\n",
            "GDF file detected\n",
            "Setting channel info structure...\n",
            "Could not determine channel type of the following channels, they will be set as EEG:\n",
            "EEG-Fz, EEG, EEG, EEG, EEG, EEG, EEG, EEG-C3, EEG, EEG-Cz, EEG, EEG-C4, EEG, EEG, EEG, EEG, EEG, EEG, EEG, EEG-Pz, EEG, EEG\n",
            "Creating raw.info structure...\n",
            "Reading 0 ... 681070  =      0.000 ...  2724.280 secs...\n"
          ]
        },
        {
          "output_type": "stream",
          "name": "stderr",
          "text": [
            "/usr/lib/python3.10/contextlib.py:142: RuntimeWarning: Channel names are not unique, found duplicates for: {'EEG'}. Applying running numbers for duplicates.\n",
            "  next(self.gen)\n"
          ]
        },
        {
          "output_type": "stream",
          "name": "stdout",
          "text": [
            "Filtering raw data in 1 contiguous segment\n",
            "Setting up band-pass filter from 4 - 40 Hz\n",
            "\n",
            "IIR filter parameters\n",
            "---------------------\n",
            "Butterworth bandpass zero-phase (two-pass forward and reverse) non-causal filter:\n",
            "- Filter order 16 (effective, after forward-backward)\n",
            "- Cutoffs at 4.00, 40.00 Hz: -6.02, -6.02 dB\n",
            "\n",
            "Filtering raw data in 1 contiguous segment\n",
            "Setting up band-stop filter from 49 - 51 Hz\n",
            "\n",
            "FIR filter parameters\n",
            "---------------------\n",
            "Designing a one-pass, zero-phase, non-causal bandstop filter:\n",
            "- Windowed time-domain design (firwin) method\n",
            "- Hamming window with 0.0194 passband ripple and 53 dB stopband attenuation\n",
            "- Lower passband edge: 49.38\n",
            "- Lower transition bandwidth: 0.50 Hz (-6 dB cutoff frequency: 49.12 Hz)\n",
            "- Upper passband edge: 50.62 Hz\n",
            "- Upper transition bandwidth: 0.50 Hz (-6 dB cutoff frequency: 50.88 Hz)\n",
            "- Filter length: 1651 samples (6.604 s)\n",
            "\n",
            "Writing /content/cleaned_data/first_session/A07T.fif\n"
          ]
        },
        {
          "output_type": "stream",
          "name": "stderr",
          "text": [
            "[Parallel(n_jobs=1)]: Done  17 tasks      | elapsed:    0.4s\n",
            "<ipython-input-9-52d09285b9e3>:27: RuntimeWarning: This filename (/content/cleaned_data/first_session/A07T.fif) does not conform to MNE naming conventions. All raw files should end with raw.fif, raw_sss.fif, raw_tsss.fif, _meg.fif, _eeg.fif, _ieeg.fif, raw.fif.gz, raw_sss.fif.gz, raw_tsss.fif.gz, _meg.fif.gz, _eeg.fif.gz or _ieeg.fif.gz\n",
            "  raw.save(new_file_path, overwrite=True)\n"
          ]
        },
        {
          "output_type": "stream",
          "name": "stdout",
          "text": [
            "Closing /content/cleaned_data/first_session/A07T.fif\n",
            "[done]\n",
            "Extracting EDF parameters from /content/raw_data/A03T.gdf...\n",
            "GDF file detected\n",
            "Setting channel info structure...\n",
            "Could not determine channel type of the following channels, they will be set as EEG:\n",
            "EEG-Fz, EEG, EEG, EEG, EEG, EEG, EEG, EEG-C3, EEG, EEG-Cz, EEG, EEG-C4, EEG, EEG, EEG, EEG, EEG, EEG, EEG, EEG-Pz, EEG, EEG\n",
            "Creating raw.info structure...\n",
            "Reading 0 ... 660529  =      0.000 ...  2642.116 secs...\n"
          ]
        },
        {
          "output_type": "stream",
          "name": "stderr",
          "text": [
            "/usr/lib/python3.10/contextlib.py:142: RuntimeWarning: Channel names are not unique, found duplicates for: {'EEG'}. Applying running numbers for duplicates.\n",
            "  next(self.gen)\n"
          ]
        },
        {
          "output_type": "stream",
          "name": "stdout",
          "text": [
            "Filtering raw data in 1 contiguous segment\n",
            "Setting up band-pass filter from 4 - 40 Hz\n",
            "\n",
            "IIR filter parameters\n",
            "---------------------\n",
            "Butterworth bandpass zero-phase (two-pass forward and reverse) non-causal filter:\n",
            "- Filter order 16 (effective, after forward-backward)\n",
            "- Cutoffs at 4.00, 40.00 Hz: -6.02, -6.02 dB\n",
            "\n",
            "Filtering raw data in 1 contiguous segment\n",
            "Setting up band-stop filter from 49 - 51 Hz\n",
            "\n",
            "FIR filter parameters\n",
            "---------------------\n",
            "Designing a one-pass, zero-phase, non-causal bandstop filter:\n",
            "- Windowed time-domain design (firwin) method\n",
            "- Hamming window with 0.0194 passband ripple and 53 dB stopband attenuation\n",
            "- Lower passband edge: 49.38\n",
            "- Lower transition bandwidth: 0.50 Hz (-6 dB cutoff frequency: 49.12 Hz)\n",
            "- Upper passband edge: 50.62 Hz\n",
            "- Upper transition bandwidth: 0.50 Hz (-6 dB cutoff frequency: 50.88 Hz)\n",
            "- Filter length: 1651 samples (6.604 s)\n",
            "\n",
            "Writing /content/cleaned_data/first_session/A03T.fif\n"
          ]
        },
        {
          "output_type": "stream",
          "name": "stderr",
          "text": [
            "[Parallel(n_jobs=1)]: Done  17 tasks      | elapsed:    0.4s\n",
            "<ipython-input-9-52d09285b9e3>:27: RuntimeWarning: This filename (/content/cleaned_data/first_session/A03T.fif) does not conform to MNE naming conventions. All raw files should end with raw.fif, raw_sss.fif, raw_tsss.fif, _meg.fif, _eeg.fif, _ieeg.fif, raw.fif.gz, raw_sss.fif.gz, raw_tsss.fif.gz, _meg.fif.gz, _eeg.fif.gz or _ieeg.fif.gz\n",
            "  raw.save(new_file_path, overwrite=True)\n"
          ]
        },
        {
          "output_type": "stream",
          "name": "stdout",
          "text": [
            "Closing /content/cleaned_data/first_session/A03T.fif\n",
            "[done]\n",
            "Extracting EDF parameters from /content/raw_data/A04T.gdf...\n",
            "GDF file detected\n",
            "Setting channel info structure...\n",
            "Could not determine channel type of the following channels, they will be set as EEG:\n",
            "EEG-Fz, EEG, EEG, EEG, EEG, EEG, EEG, EEG-C3, EEG, EEG-Cz, EEG, EEG-C4, EEG, EEG, EEG, EEG, EEG, EEG, EEG, EEG-Pz, EEG, EEG\n",
            "Creating raw.info structure...\n",
            "Reading 0 ... 600914  =      0.000 ...  2403.656 secs...\n"
          ]
        },
        {
          "output_type": "stream",
          "name": "stderr",
          "text": [
            "/usr/lib/python3.10/contextlib.py:142: RuntimeWarning: Channel names are not unique, found duplicates for: {'EEG'}. Applying running numbers for duplicates.\n",
            "  next(self.gen)\n"
          ]
        },
        {
          "output_type": "stream",
          "name": "stdout",
          "text": [
            "Filtering raw data in 1 contiguous segment\n",
            "Setting up band-pass filter from 4 - 40 Hz\n",
            "\n",
            "IIR filter parameters\n",
            "---------------------\n",
            "Butterworth bandpass zero-phase (two-pass forward and reverse) non-causal filter:\n",
            "- Filter order 16 (effective, after forward-backward)\n",
            "- Cutoffs at 4.00, 40.00 Hz: -6.02, -6.02 dB\n",
            "\n",
            "Filtering raw data in 1 contiguous segment\n",
            "Setting up band-stop filter from 49 - 51 Hz\n",
            "\n",
            "FIR filter parameters\n",
            "---------------------\n",
            "Designing a one-pass, zero-phase, non-causal bandstop filter:\n",
            "- Windowed time-domain design (firwin) method\n",
            "- Hamming window with 0.0194 passband ripple and 53 dB stopband attenuation\n",
            "- Lower passband edge: 49.38\n",
            "- Lower transition bandwidth: 0.50 Hz (-6 dB cutoff frequency: 49.12 Hz)\n",
            "- Upper passband edge: 50.62 Hz\n",
            "- Upper transition bandwidth: 0.50 Hz (-6 dB cutoff frequency: 50.88 Hz)\n",
            "- Filter length: 1651 samples (6.604 s)\n",
            "\n",
            "Writing /content/cleaned_data/first_session/A04T.fif\n"
          ]
        },
        {
          "output_type": "stream",
          "name": "stderr",
          "text": [
            "[Parallel(n_jobs=1)]: Done  17 tasks      | elapsed:    0.5s\n",
            "<ipython-input-9-52d09285b9e3>:27: RuntimeWarning: This filename (/content/cleaned_data/first_session/A04T.fif) does not conform to MNE naming conventions. All raw files should end with raw.fif, raw_sss.fif, raw_tsss.fif, _meg.fif, _eeg.fif, _ieeg.fif, raw.fif.gz, raw_sss.fif.gz, raw_tsss.fif.gz, _meg.fif.gz, _eeg.fif.gz or _ieeg.fif.gz\n",
            "  raw.save(new_file_path, overwrite=True)\n"
          ]
        },
        {
          "output_type": "stream",
          "name": "stdout",
          "text": [
            "Closing /content/cleaned_data/first_session/A04T.fif\n",
            "[done]\n",
            "Extracting EDF parameters from /content/raw_data/A09T.gdf...\n",
            "GDF file detected\n",
            "Setting channel info structure...\n",
            "Could not determine channel type of the following channels, they will be set as EEG:\n",
            "EEG-Fz, EEG, EEG, EEG, EEG, EEG, EEG, EEG-C3, EEG, EEG-Cz, EEG, EEG-C4, EEG, EEG, EEG, EEG, EEG, EEG, EEG, EEG-Pz, EEG, EEG\n",
            "Creating raw.info structure...\n",
            "Reading 0 ... 673327  =      0.000 ...  2693.308 secs...\n"
          ]
        },
        {
          "output_type": "stream",
          "name": "stderr",
          "text": [
            "/usr/lib/python3.10/contextlib.py:142: RuntimeWarning: Channel names are not unique, found duplicates for: {'EEG'}. Applying running numbers for duplicates.\n",
            "  next(self.gen)\n"
          ]
        },
        {
          "output_type": "stream",
          "name": "stdout",
          "text": [
            "Filtering raw data in 1 contiguous segment\n",
            "Setting up band-pass filter from 4 - 40 Hz\n",
            "\n",
            "IIR filter parameters\n",
            "---------------------\n",
            "Butterworth bandpass zero-phase (two-pass forward and reverse) non-causal filter:\n",
            "- Filter order 16 (effective, after forward-backward)\n",
            "- Cutoffs at 4.00, 40.00 Hz: -6.02, -6.02 dB\n",
            "\n",
            "Filtering raw data in 1 contiguous segment\n",
            "Setting up band-stop filter from 49 - 51 Hz\n",
            "\n",
            "FIR filter parameters\n",
            "---------------------\n",
            "Designing a one-pass, zero-phase, non-causal bandstop filter:\n",
            "- Windowed time-domain design (firwin) method\n",
            "- Hamming window with 0.0194 passband ripple and 53 dB stopband attenuation\n",
            "- Lower passband edge: 49.38\n",
            "- Lower transition bandwidth: 0.50 Hz (-6 dB cutoff frequency: 49.12 Hz)\n",
            "- Upper passband edge: 50.62 Hz\n",
            "- Upper transition bandwidth: 0.50 Hz (-6 dB cutoff frequency: 50.88 Hz)\n",
            "- Filter length: 1651 samples (6.604 s)\n",
            "\n",
            "Writing /content/cleaned_data/first_session/A09T.fif\n"
          ]
        },
        {
          "output_type": "stream",
          "name": "stderr",
          "text": [
            "[Parallel(n_jobs=1)]: Done  17 tasks      | elapsed:    0.4s\n",
            "<ipython-input-9-52d09285b9e3>:27: RuntimeWarning: This filename (/content/cleaned_data/first_session/A09T.fif) does not conform to MNE naming conventions. All raw files should end with raw.fif, raw_sss.fif, raw_tsss.fif, _meg.fif, _eeg.fif, _ieeg.fif, raw.fif.gz, raw_sss.fif.gz, raw_tsss.fif.gz, _meg.fif.gz, _eeg.fif.gz or _ieeg.fif.gz\n",
            "  raw.save(new_file_path, overwrite=True)\n"
          ]
        },
        {
          "output_type": "stream",
          "name": "stdout",
          "text": [
            "Closing /content/cleaned_data/first_session/A09T.fif\n",
            "[done]\n",
            "Writing /content/cleaned_data/first_session/First_Session_Subjects.fif\n"
          ]
        },
        {
          "output_type": "stream",
          "name": "stderr",
          "text": [
            "<ipython-input-9-52d09285b9e3>:33: RuntimeWarning: This filename (/content/cleaned_data/first_session/First_Session_Subjects.fif) does not conform to MNE naming conventions. All raw files should end with raw.fif, raw_sss.fif, raw_tsss.fif, _meg.fif, _eeg.fif, _ieeg.fif, raw.fif.gz, raw_sss.fif.gz, raw_tsss.fif.gz, _meg.fif.gz, _eeg.fif.gz or _ieeg.fif.gz\n",
            "  final_raw.save(new_file_path, overwrite=True)\n"
          ]
        },
        {
          "output_type": "stream",
          "name": "stdout",
          "text": [
            "Closing /content/cleaned_data/first_session/First_Session_Subjects.fif\n",
            "[done]\n"
          ]
        }
      ]
    },
    {
      "cell_type": "markdown",
      "source": [
        "**List of the events**  \n",
        "'1023': 1 Rejected trial  \n",
        "'1072': 2 Eye movements  \n",
        "'276': 3 Idling EEG (eyes open)  \n",
        "'277': 4 Idling EEG (eyes closed)  \n",
        "'32766': 5 Start of a new run  \n",
        "'768': 6 Start of a trial  \n",
        "'769': 7 Cue onset **Left** (class 1) : 0  \n",
        "'770': 8 Cue onset **Right** (class 2) : 1  \n",
        "'771': 9 Cue onset **Foot** (class 3) : 2  \n",
        "'772': 10 Cue onset **Tongue** (class 4): 3"
      ],
      "metadata": {
        "id": "wNqq3V3rCiPn"
      }
    },
    {
      "cell_type": "code",
      "source": [
        "events = mne.events_from_annotations(final_raw)\n",
        "events[1]"
      ],
      "metadata": {
        "id": "-9RZjQbWCoc0",
        "colab": {
          "base_uri": "https://localhost:8080/"
        },
        "outputId": "53b27b62-b2d2-4152-ee49-7d2b3e01dad0"
      },
      "execution_count": null,
      "outputs": [
        {
          "output_type": "stream",
          "name": "stdout",
          "text": [
            "Used Annotations descriptions: ['1023', '1072', '276', '277', '32766', '768', '769', '770', '771', '772']\n"
          ]
        },
        {
          "output_type": "execute_result",
          "data": {
            "text/plain": [
              "{'1023': 1,\n",
              " '1072': 2,\n",
              " '276': 3,\n",
              " '277': 4,\n",
              " '32766': 5,\n",
              " '768': 6,\n",
              " '769': 7,\n",
              " '770': 8,\n",
              " '771': 9,\n",
              " '772': 10}"
            ]
          },
          "metadata": {},
          "execution_count": 10
        }
      ]
    },
    {
      "cell_type": "markdown",
      "source": [
        "**Time choice:**  \n",
        "[0.s, 4s] Post Cue on set:  [2s, 6s]"
      ],
      "metadata": {
        "id": "PJAI_olujhxI"
      }
    },
    {
      "cell_type": "code",
      "source": [
        "epochs = mne.Epochs(final_raw, events[0], event_id=[7, 8, 9, 10], tmin=0, tmax=4, reject=None, baseline=None, preload=True)\n",
        "first_session_data = epochs.get_data(copy=True)\n",
        "first_session_labels = epochs.events[:,-1]"
      ],
      "metadata": {
        "id": "OaAuA1mQCqcP",
        "colab": {
          "base_uri": "https://localhost:8080/"
        },
        "outputId": "da570a99-405a-4670-cf4f-eed16df774d2"
      },
      "execution_count": null,
      "outputs": [
        {
          "output_type": "stream",
          "name": "stdout",
          "text": [
            "Not setting metadata\n",
            "2592 matching events found\n",
            "No baseline correction applied\n",
            "0 projection items activated\n",
            "Using data from preloaded Raw for 2592 events and 1001 original time points ...\n",
            "0 bad epochs dropped\n"
          ]
        }
      ]
    },
    {
      "cell_type": "code",
      "source": [
        "print(\"First_session_dataset shape:\",first_session_data.shape)"
      ],
      "metadata": {
        "id": "rVNRjQbfCs3-",
        "colab": {
          "base_uri": "https://localhost:8080/"
        },
        "outputId": "31b94a99-4d13-4fe1-bd6a-0b7bc02284d6"
      },
      "execution_count": null,
      "outputs": [
        {
          "output_type": "stream",
          "name": "stdout",
          "text": [
            "First_session_dataset shape: (2592, 22, 1001)\n"
          ]
        }
      ]
    },
    {
      "cell_type": "markdown",
      "source": [
        "##Second Session"
      ],
      "metadata": {
        "id": "JJva8vhuMAtc"
      }
    },
    {
      "cell_type": "markdown",
      "source": [
        "###Extracting Labels for datas with \"E.gdf\" prefix"
      ],
      "metadata": {
        "id": "bzQH8SI9MI72"
      }
    },
    {
      "cell_type": "code",
      "source": [
        "# Replace this with your actual shareable link\n",
        "shareable_link = 'https://drive.google.com/file/d/11Ke2Xta1kv2xu2Mybuu_X51zJYjQ-VFo/view?usp=drive_link'\n",
        "\n",
        "# Extract file ID from the shareable link\n",
        "file_id = shareable_link.split('/d/')[1].split('/view')[0]\n",
        "\n",
        "# Create the direct download link\n",
        "download_url = f'https://drive.google.com/uc?id={file_id}&export=download'\n",
        "\n",
        "# Specify the output file path\n",
        "output_file = 'true_labels.zip'\n",
        "\n",
        "# Download the file\n",
        "gdown.download(download_url, output_file, quiet=False)"
      ],
      "metadata": {
        "id": "MjLuwdcgMD_l",
        "colab": {
          "base_uri": "https://localhost:8080/",
          "height": 108
        },
        "outputId": "d622d8aa-074d-43b4-c612-5f91ac925761"
      },
      "execution_count": null,
      "outputs": [
        {
          "output_type": "stream",
          "name": "stderr",
          "text": [
            "Downloading...\n",
            "From: https://drive.google.com/uc?id=11Ke2Xta1kv2xu2Mybuu_X51zJYjQ-VFo&export=download\n",
            "To: /content/true_labels.zip\n",
            "100%|██████████| 7.20k/7.20k [00:00<00:00, 17.2MB/s]\n"
          ]
        },
        {
          "output_type": "execute_result",
          "data": {
            "text/plain": [
              "'true_labels.zip'"
            ],
            "application/vnd.google.colaboratory.intrinsic+json": {
              "type": "string"
            }
          },
          "metadata": {},
          "execution_count": 13
        }
      ]
    },
    {
      "cell_type": "code",
      "source": [
        "%%capture\n",
        "!unzip /content/true_labels.zip -d second_session_labels"
      ],
      "metadata": {
        "id": "03wA4VGpMZNS"
      },
      "execution_count": null,
      "outputs": []
    },
    {
      "cell_type": "markdown",
      "source": [
        "###Extracting datas of second session"
      ],
      "metadata": {
        "id": "1iijTs3RMdCo"
      }
    },
    {
      "cell_type": "code",
      "source": [
        "raw_data_folder = '/content/raw_data/'\n",
        "cleaned_data_folder = '/content/cleaned_data/second_session/'\n",
        "mat_folder = '/content/second_session_labels/'\n",
        "\n",
        "# Selecting files with suffix 'E.mat'\n",
        "mat_files = os.listdir(mat_folder)\n",
        "filtered_math_labels = [file for file in mat_files if file.endswith('E.mat')]\n",
        "\n",
        "# Selecting files with suffix 'E.gdf'\n",
        "files = os.listdir(raw_data_folder)\n",
        "filtered_files = [file for file in files if file.endswith('E.gdf')]\n",
        "\n",
        "raw_list = []\n",
        "second_session_labels = np.array([])\n",
        "# Iterating through filtered files\n",
        "for file in filtered_files:\n",
        "    file_path = os.path.join(raw_data_folder, file)\n",
        "\n",
        "    # Reading raw data\n",
        "    raw = mne.io.read_raw_gdf(file_path, eog=['EOG-left', 'EOG-central', 'EOG-right'], preload=True)\n",
        "    # Droping EOG channels\n",
        "    raw.drop_channels(['EOG-left', 'EOG-central', 'EOG-right'])\n",
        "\n",
        "    # High Pass Filtering 4-40 Hz\n",
        "    raw.filter(l_freq=4, h_freq=40, method='iir')\n",
        "\n",
        "    # Saving the modified raw data to a file with .fif suffix\n",
        "    new_file_path = os.path.join(cleaned_data_folder, file[:-4] + '.fif')\n",
        "    raw.save(new_file_path, overwrite=True)\n",
        "    # Appending data to t he list\n",
        "    raw_list.append(raw)\n",
        "\n",
        "    # Mat files for the labels\n",
        "    mat_file_name = file.replace('.gdf', '.mat')\n",
        "    mat_file_path = os.path.join(mat_folder, mat_file_name)\n",
        "    print(f\"data:{file}, label:{mat_file_name}\")\n",
        "\n",
        "    if os.path.exists(mat_file_path):\n",
        "        mat_data = scipy.io.loadmat(mat_file_path)\n",
        "        class_labels = mat_data.get('classlabel', [])\n",
        "\n",
        "        # Check if 'classlabel' key exists and is not empty\n",
        "        if class_labels.size > 0:\n",
        "             # Convert to a NumPy array and flatten\n",
        "            class_labels_array = np.array(class_labels, dtype=int).flatten()\n",
        "            # Concatenate with the existing test_labels array\n",
        "            second_session_labels = np.concatenate((second_session_labels, class_labels_array))\n",
        "        else:\n",
        "            print(f\"Warning: 'classlabel' not found or empty in {mat_file_name}.\")\n",
        "    else:\n",
        "        print(f\"Warning: {mat_file_name} not found.\")\n",
        "\n",
        "final_raw = mne.concatenate_raws(raw_list)\n",
        "new_file_path = os.path.join(cleaned_data_folder, 'Second_Session_Subjects.fif')\n",
        "final_raw.save(new_file_path, overwrite=True)"
      ],
      "metadata": {
        "id": "GbOQB2gDMgOf",
        "colab": {
          "base_uri": "https://localhost:8080/"
        },
        "outputId": "e93fba11-cda8-434b-bf0d-229512996792"
      },
      "execution_count": null,
      "outputs": [
        {
          "output_type": "stream",
          "name": "stdout",
          "text": [
            "Extracting EDF parameters from /content/raw_data/A09E.gdf...\n",
            "GDF file detected\n",
            "Setting channel info structure...\n",
            "Could not determine channel type of the following channels, they will be set as EEG:\n",
            "EEG-Fz, EEG, EEG, EEG, EEG, EEG, EEG, EEG-C3, EEG, EEG-Cz, EEG, EEG-C4, EEG, EEG, EEG, EEG, EEG, EEG, EEG, EEG-Pz, EEG, EEG\n",
            "Creating raw.info structure...\n",
            "Reading 0 ... 675097  =      0.000 ...  2700.388 secs...\n"
          ]
        },
        {
          "output_type": "stream",
          "name": "stderr",
          "text": [
            "/usr/lib/python3.10/contextlib.py:142: RuntimeWarning: Channel names are not unique, found duplicates for: {'EEG'}. Applying running numbers for duplicates.\n",
            "  next(self.gen)\n"
          ]
        },
        {
          "output_type": "stream",
          "name": "stdout",
          "text": [
            "Filtering raw data in 1 contiguous segment\n",
            "Setting up band-pass filter from 4 - 40 Hz\n",
            "\n",
            "IIR filter parameters\n",
            "---------------------\n",
            "Butterworth bandpass zero-phase (two-pass forward and reverse) non-causal filter:\n",
            "- Filter order 16 (effective, after forward-backward)\n",
            "- Cutoffs at 4.00, 40.00 Hz: -6.02, -6.02 dB\n",
            "\n",
            "Writing /content/cleaned_data/second_session/A09E.fif\n"
          ]
        },
        {
          "output_type": "stream",
          "name": "stderr",
          "text": [
            "<ipython-input-15-17b2bcb1c589>:29: RuntimeWarning: This filename (/content/cleaned_data/second_session/A09E.fif) does not conform to MNE naming conventions. All raw files should end with raw.fif, raw_sss.fif, raw_tsss.fif, _meg.fif, _eeg.fif, _ieeg.fif, raw.fif.gz, raw_sss.fif.gz, raw_tsss.fif.gz, _meg.fif.gz, _eeg.fif.gz or _ieeg.fif.gz\n",
            "  raw.save(new_file_path, overwrite=True)\n"
          ]
        },
        {
          "output_type": "stream",
          "name": "stdout",
          "text": [
            "Closing /content/cleaned_data/second_session/A09E.fif\n",
            "[done]\n",
            "data:A09E.gdf, label:A09E.mat\n",
            "Extracting EDF parameters from /content/raw_data/A02E.gdf...\n",
            "GDF file detected\n",
            "Setting channel info structure...\n",
            "Could not determine channel type of the following channels, they will be set as EEG:\n",
            "EEG-Fz, EEG, EEG, EEG, EEG, EEG, EEG, EEG-C3, EEG, EEG-Cz, EEG, EEG-C4, EEG, EEG, EEG, EEG, EEG, EEG, EEG, EEG-Pz, EEG, EEG\n",
            "Creating raw.info structure...\n",
            "Reading 0 ... 662665  =      0.000 ...  2650.660 secs...\n"
          ]
        },
        {
          "output_type": "stream",
          "name": "stderr",
          "text": [
            "/usr/lib/python3.10/contextlib.py:142: RuntimeWarning: Channel names are not unique, found duplicates for: {'EEG'}. Applying running numbers for duplicates.\n",
            "  next(self.gen)\n"
          ]
        },
        {
          "output_type": "stream",
          "name": "stdout",
          "text": [
            "Filtering raw data in 1 contiguous segment\n",
            "Setting up band-pass filter from 4 - 40 Hz\n",
            "\n",
            "IIR filter parameters\n",
            "---------------------\n",
            "Butterworth bandpass zero-phase (two-pass forward and reverse) non-causal filter:\n",
            "- Filter order 16 (effective, after forward-backward)\n",
            "- Cutoffs at 4.00, 40.00 Hz: -6.02, -6.02 dB\n",
            "\n",
            "Writing /content/cleaned_data/second_session/A02E.fif\n"
          ]
        },
        {
          "output_type": "stream",
          "name": "stderr",
          "text": [
            "<ipython-input-15-17b2bcb1c589>:29: RuntimeWarning: This filename (/content/cleaned_data/second_session/A02E.fif) does not conform to MNE naming conventions. All raw files should end with raw.fif, raw_sss.fif, raw_tsss.fif, _meg.fif, _eeg.fif, _ieeg.fif, raw.fif.gz, raw_sss.fif.gz, raw_tsss.fif.gz, _meg.fif.gz, _eeg.fif.gz or _ieeg.fif.gz\n",
            "  raw.save(new_file_path, overwrite=True)\n"
          ]
        },
        {
          "output_type": "stream",
          "name": "stdout",
          "text": [
            "Closing /content/cleaned_data/second_session/A02E.fif\n",
            "[done]\n",
            "data:A02E.gdf, label:A02E.mat\n",
            "Extracting EDF parameters from /content/raw_data/A08E.gdf...\n",
            "GDF file detected\n",
            "Setting channel info structure...\n",
            "Could not determine channel type of the following channels, they will be set as EEG:\n",
            "EEG-Fz, EEG, EEG, EEG, EEG, EEG, EEG, EEG-C3, EEG, EEG-Cz, EEG, EEG-C4, EEG, EEG, EEG, EEG, EEG, EEG, EEG, EEG-Pz, EEG, EEG\n",
            "Creating raw.info structure...\n",
            "Reading 0 ... 687791  =      0.000 ...  2751.164 secs...\n"
          ]
        },
        {
          "output_type": "stream",
          "name": "stderr",
          "text": [
            "/usr/lib/python3.10/contextlib.py:142: RuntimeWarning: Channel names are not unique, found duplicates for: {'EEG'}. Applying running numbers for duplicates.\n",
            "  next(self.gen)\n"
          ]
        },
        {
          "output_type": "stream",
          "name": "stdout",
          "text": [
            "Filtering raw data in 1 contiguous segment\n",
            "Setting up band-pass filter from 4 - 40 Hz\n",
            "\n",
            "IIR filter parameters\n",
            "---------------------\n",
            "Butterworth bandpass zero-phase (two-pass forward and reverse) non-causal filter:\n",
            "- Filter order 16 (effective, after forward-backward)\n",
            "- Cutoffs at 4.00, 40.00 Hz: -6.02, -6.02 dB\n",
            "\n",
            "Writing /content/cleaned_data/second_session/A08E.fif\n"
          ]
        },
        {
          "output_type": "stream",
          "name": "stderr",
          "text": [
            "<ipython-input-15-17b2bcb1c589>:29: RuntimeWarning: This filename (/content/cleaned_data/second_session/A08E.fif) does not conform to MNE naming conventions. All raw files should end with raw.fif, raw_sss.fif, raw_tsss.fif, _meg.fif, _eeg.fif, _ieeg.fif, raw.fif.gz, raw_sss.fif.gz, raw_tsss.fif.gz, _meg.fif.gz, _eeg.fif.gz or _ieeg.fif.gz\n",
            "  raw.save(new_file_path, overwrite=True)\n"
          ]
        },
        {
          "output_type": "stream",
          "name": "stdout",
          "text": [
            "Closing /content/cleaned_data/second_session/A08E.fif\n",
            "[done]\n",
            "data:A08E.gdf, label:A08E.mat\n",
            "Extracting EDF parameters from /content/raw_data/A06E.gdf...\n",
            "GDF file detected\n",
            "Setting channel info structure...\n",
            "Could not determine channel type of the following channels, they will be set as EEG:\n",
            "EEG-Fz, EEG, EEG, EEG, EEG, EEG, EEG, EEG-C3, EEG, EEG-Cz, EEG, EEG-C4, EEG, EEG, EEG, EEG, EEG, EEG, EEG, EEG-Pz, EEG, EEG\n",
            "Creating raw.info structure...\n",
            "Reading 0 ... 666372  =      0.000 ...  2665.488 secs...\n"
          ]
        },
        {
          "output_type": "stream",
          "name": "stderr",
          "text": [
            "/usr/lib/python3.10/contextlib.py:142: RuntimeWarning: Channel names are not unique, found duplicates for: {'EEG'}. Applying running numbers for duplicates.\n",
            "  next(self.gen)\n"
          ]
        },
        {
          "output_type": "stream",
          "name": "stdout",
          "text": [
            "Filtering raw data in 1 contiguous segment\n",
            "Setting up band-pass filter from 4 - 40 Hz\n",
            "\n",
            "IIR filter parameters\n",
            "---------------------\n",
            "Butterworth bandpass zero-phase (two-pass forward and reverse) non-causal filter:\n",
            "- Filter order 16 (effective, after forward-backward)\n",
            "- Cutoffs at 4.00, 40.00 Hz: -6.02, -6.02 dB\n",
            "\n",
            "Writing /content/cleaned_data/second_session/A06E.fif\n"
          ]
        },
        {
          "output_type": "stream",
          "name": "stderr",
          "text": [
            "<ipython-input-15-17b2bcb1c589>:29: RuntimeWarning: This filename (/content/cleaned_data/second_session/A06E.fif) does not conform to MNE naming conventions. All raw files should end with raw.fif, raw_sss.fif, raw_tsss.fif, _meg.fif, _eeg.fif, _ieeg.fif, raw.fif.gz, raw_sss.fif.gz, raw_tsss.fif.gz, _meg.fif.gz, _eeg.fif.gz or _ieeg.fif.gz\n",
            "  raw.save(new_file_path, overwrite=True)\n"
          ]
        },
        {
          "output_type": "stream",
          "name": "stdout",
          "text": [
            "Closing /content/cleaned_data/second_session/A06E.fif\n",
            "[done]\n",
            "data:A06E.gdf, label:A06E.mat\n",
            "Extracting EDF parameters from /content/raw_data/A03E.gdf...\n",
            "GDF file detected\n",
            "Setting channel info structure...\n",
            "Could not determine channel type of the following channels, they will be set as EEG:\n",
            "EEG-Fz, EEG, EEG, EEG, EEG, EEG, EEG, EEG-C3, EEG, EEG-Cz, EEG, EEG-C4, EEG, EEG, EEG, EEG, EEG, EEG, EEG, EEG-Pz, EEG, EEG\n",
            "Creating raw.info structure...\n",
            "Reading 0 ... 648774  =      0.000 ...  2595.096 secs...\n"
          ]
        },
        {
          "output_type": "stream",
          "name": "stderr",
          "text": [
            "/usr/lib/python3.10/contextlib.py:142: RuntimeWarning: Channel names are not unique, found duplicates for: {'EEG'}. Applying running numbers for duplicates.\n",
            "  next(self.gen)\n"
          ]
        },
        {
          "output_type": "stream",
          "name": "stdout",
          "text": [
            "Filtering raw data in 1 contiguous segment\n",
            "Setting up band-pass filter from 4 - 40 Hz\n",
            "\n",
            "IIR filter parameters\n",
            "---------------------\n",
            "Butterworth bandpass zero-phase (two-pass forward and reverse) non-causal filter:\n",
            "- Filter order 16 (effective, after forward-backward)\n",
            "- Cutoffs at 4.00, 40.00 Hz: -6.02, -6.02 dB\n",
            "\n",
            "Writing /content/cleaned_data/second_session/A03E.fif\n"
          ]
        },
        {
          "output_type": "stream",
          "name": "stderr",
          "text": [
            "<ipython-input-15-17b2bcb1c589>:29: RuntimeWarning: This filename (/content/cleaned_data/second_session/A03E.fif) does not conform to MNE naming conventions. All raw files should end with raw.fif, raw_sss.fif, raw_tsss.fif, _meg.fif, _eeg.fif, _ieeg.fif, raw.fif.gz, raw_sss.fif.gz, raw_tsss.fif.gz, _meg.fif.gz, _eeg.fif.gz or _ieeg.fif.gz\n",
            "  raw.save(new_file_path, overwrite=True)\n"
          ]
        },
        {
          "output_type": "stream",
          "name": "stdout",
          "text": [
            "Closing /content/cleaned_data/second_session/A03E.fif\n",
            "[done]\n",
            "data:A03E.gdf, label:A03E.mat\n",
            "Extracting EDF parameters from /content/raw_data/A01E.gdf...\n",
            "GDF file detected\n",
            "Setting channel info structure...\n",
            "Could not determine channel type of the following channels, they will be set as EEG:\n",
            "EEG-Fz, EEG, EEG, EEG, EEG, EEG, EEG, EEG-C3, EEG, EEG-Cz, EEG, EEG-C4, EEG, EEG, EEG, EEG, EEG, EEG, EEG, EEG-Pz, EEG, EEG\n",
            "Creating raw.info structure...\n",
            "Reading 0 ... 686999  =      0.000 ...  2747.996 secs...\n"
          ]
        },
        {
          "output_type": "stream",
          "name": "stderr",
          "text": [
            "/usr/lib/python3.10/contextlib.py:142: RuntimeWarning: Channel names are not unique, found duplicates for: {'EEG'}. Applying running numbers for duplicates.\n",
            "  next(self.gen)\n"
          ]
        },
        {
          "output_type": "stream",
          "name": "stdout",
          "text": [
            "Filtering raw data in 1 contiguous segment\n",
            "Setting up band-pass filter from 4 - 40 Hz\n",
            "\n",
            "IIR filter parameters\n",
            "---------------------\n",
            "Butterworth bandpass zero-phase (two-pass forward and reverse) non-causal filter:\n",
            "- Filter order 16 (effective, after forward-backward)\n",
            "- Cutoffs at 4.00, 40.00 Hz: -6.02, -6.02 dB\n",
            "\n",
            "Writing /content/cleaned_data/second_session/A01E.fif\n"
          ]
        },
        {
          "output_type": "stream",
          "name": "stderr",
          "text": [
            "<ipython-input-15-17b2bcb1c589>:29: RuntimeWarning: This filename (/content/cleaned_data/second_session/A01E.fif) does not conform to MNE naming conventions. All raw files should end with raw.fif, raw_sss.fif, raw_tsss.fif, _meg.fif, _eeg.fif, _ieeg.fif, raw.fif.gz, raw_sss.fif.gz, raw_tsss.fif.gz, _meg.fif.gz, _eeg.fif.gz or _ieeg.fif.gz\n",
            "  raw.save(new_file_path, overwrite=True)\n"
          ]
        },
        {
          "output_type": "stream",
          "name": "stdout",
          "text": [
            "Closing /content/cleaned_data/second_session/A01E.fif\n",
            "[done]\n",
            "data:A01E.gdf, label:A01E.mat\n",
            "Extracting EDF parameters from /content/raw_data/A05E.gdf...\n",
            "GDF file detected\n",
            "Setting channel info structure...\n",
            "Could not determine channel type of the following channels, they will be set as EEG:\n",
            "EEG-Fz, EEG, EEG, EEG, EEG, EEG, EEG, EEG-C3, EEG, EEG-Cz, EEG, EEG-C4, EEG, EEG, EEG, EEG, EEG, EEG, EEG, EEG-Pz, EEG, EEG\n",
            "Creating raw.info structure...\n",
            "Reading 0 ... 679862  =      0.000 ...  2719.448 secs...\n"
          ]
        },
        {
          "output_type": "stream",
          "name": "stderr",
          "text": [
            "/usr/lib/python3.10/contextlib.py:142: RuntimeWarning: Channel names are not unique, found duplicates for: {'EEG'}. Applying running numbers for duplicates.\n",
            "  next(self.gen)\n"
          ]
        },
        {
          "output_type": "stream",
          "name": "stdout",
          "text": [
            "Filtering raw data in 1 contiguous segment\n",
            "Setting up band-pass filter from 4 - 40 Hz\n",
            "\n",
            "IIR filter parameters\n",
            "---------------------\n",
            "Butterworth bandpass zero-phase (two-pass forward and reverse) non-causal filter:\n",
            "- Filter order 16 (effective, after forward-backward)\n",
            "- Cutoffs at 4.00, 40.00 Hz: -6.02, -6.02 dB\n",
            "\n",
            "Writing /content/cleaned_data/second_session/A05E.fif\n"
          ]
        },
        {
          "output_type": "stream",
          "name": "stderr",
          "text": [
            "<ipython-input-15-17b2bcb1c589>:29: RuntimeWarning: This filename (/content/cleaned_data/second_session/A05E.fif) does not conform to MNE naming conventions. All raw files should end with raw.fif, raw_sss.fif, raw_tsss.fif, _meg.fif, _eeg.fif, _ieeg.fif, raw.fif.gz, raw_sss.fif.gz, raw_tsss.fif.gz, _meg.fif.gz, _eeg.fif.gz or _ieeg.fif.gz\n",
            "  raw.save(new_file_path, overwrite=True)\n"
          ]
        },
        {
          "output_type": "stream",
          "name": "stdout",
          "text": [
            "Closing /content/cleaned_data/second_session/A05E.fif\n",
            "[done]\n",
            "data:A05E.gdf, label:A05E.mat\n",
            "Extracting EDF parameters from /content/raw_data/A07E.gdf...\n",
            "GDF file detected\n",
            "Setting channel info structure...\n",
            "Could not determine channel type of the following channels, they will be set as EEG:\n",
            "EEG-Fz, EEG, EEG, EEG, EEG, EEG, EEG, EEG-C3, EEG, EEG-Cz, EEG, EEG-C4, EEG, EEG, EEG, EEG, EEG, EEG, EEG, EEG-Pz, EEG, EEG\n",
            "Creating raw.info structure...\n",
            "Reading 0 ... 673134  =      0.000 ...  2692.536 secs...\n"
          ]
        },
        {
          "output_type": "stream",
          "name": "stderr",
          "text": [
            "/usr/lib/python3.10/contextlib.py:142: RuntimeWarning: Channel names are not unique, found duplicates for: {'EEG'}. Applying running numbers for duplicates.\n",
            "  next(self.gen)\n"
          ]
        },
        {
          "output_type": "stream",
          "name": "stdout",
          "text": [
            "Filtering raw data in 1 contiguous segment\n",
            "Setting up band-pass filter from 4 - 40 Hz\n",
            "\n",
            "IIR filter parameters\n",
            "---------------------\n",
            "Butterworth bandpass zero-phase (two-pass forward and reverse) non-causal filter:\n",
            "- Filter order 16 (effective, after forward-backward)\n",
            "- Cutoffs at 4.00, 40.00 Hz: -6.02, -6.02 dB\n",
            "\n",
            "Writing /content/cleaned_data/second_session/A07E.fif\n"
          ]
        },
        {
          "output_type": "stream",
          "name": "stderr",
          "text": [
            "<ipython-input-15-17b2bcb1c589>:29: RuntimeWarning: This filename (/content/cleaned_data/second_session/A07E.fif) does not conform to MNE naming conventions. All raw files should end with raw.fif, raw_sss.fif, raw_tsss.fif, _meg.fif, _eeg.fif, _ieeg.fif, raw.fif.gz, raw_sss.fif.gz, raw_tsss.fif.gz, _meg.fif.gz, _eeg.fif.gz or _ieeg.fif.gz\n",
            "  raw.save(new_file_path, overwrite=True)\n"
          ]
        },
        {
          "output_type": "stream",
          "name": "stdout",
          "text": [
            "Closing /content/cleaned_data/second_session/A07E.fif\n",
            "[done]\n",
            "data:A07E.gdf, label:A07E.mat\n",
            "Extracting EDF parameters from /content/raw_data/A04E.gdf...\n",
            "GDF file detected\n",
            "Setting channel info structure...\n",
            "Could not determine channel type of the following channels, they will be set as EEG:\n",
            "EEG-Fz, EEG, EEG, EEG, EEG, EEG, EEG, EEG-C3, EEG, EEG-Cz, EEG, EEG-C4, EEG, EEG, EEG, EEG, EEG, EEG, EEG, EEG-Pz, EEG, EEG\n",
            "Creating raw.info structure...\n",
            "Reading 0 ... 660046  =      0.000 ...  2640.184 secs...\n"
          ]
        },
        {
          "output_type": "stream",
          "name": "stderr",
          "text": [
            "/usr/lib/python3.10/contextlib.py:142: RuntimeWarning: Channel names are not unique, found duplicates for: {'EEG'}. Applying running numbers for duplicates.\n",
            "  next(self.gen)\n"
          ]
        },
        {
          "output_type": "stream",
          "name": "stdout",
          "text": [
            "Filtering raw data in 1 contiguous segment\n",
            "Setting up band-pass filter from 4 - 40 Hz\n",
            "\n",
            "IIR filter parameters\n",
            "---------------------\n",
            "Butterworth bandpass zero-phase (two-pass forward and reverse) non-causal filter:\n",
            "- Filter order 16 (effective, after forward-backward)\n",
            "- Cutoffs at 4.00, 40.00 Hz: -6.02, -6.02 dB\n",
            "\n",
            "Writing /content/cleaned_data/second_session/A04E.fif\n"
          ]
        },
        {
          "output_type": "stream",
          "name": "stderr",
          "text": [
            "<ipython-input-15-17b2bcb1c589>:29: RuntimeWarning: This filename (/content/cleaned_data/second_session/A04E.fif) does not conform to MNE naming conventions. All raw files should end with raw.fif, raw_sss.fif, raw_tsss.fif, _meg.fif, _eeg.fif, _ieeg.fif, raw.fif.gz, raw_sss.fif.gz, raw_tsss.fif.gz, _meg.fif.gz, _eeg.fif.gz or _ieeg.fif.gz\n",
            "  raw.save(new_file_path, overwrite=True)\n"
          ]
        },
        {
          "output_type": "stream",
          "name": "stdout",
          "text": [
            "Closing /content/cleaned_data/second_session/A04E.fif\n",
            "[done]\n",
            "data:A04E.gdf, label:A04E.mat\n",
            "Writing /content/cleaned_data/second_session/Second_Session_Subjects.fif\n"
          ]
        },
        {
          "output_type": "stream",
          "name": "stderr",
          "text": [
            "<ipython-input-15-17b2bcb1c589>:55: RuntimeWarning: This filename (/content/cleaned_data/second_session/Second_Session_Subjects.fif) does not conform to MNE naming conventions. All raw files should end with raw.fif, raw_sss.fif, raw_tsss.fif, _meg.fif, _eeg.fif, _ieeg.fif, raw.fif.gz, raw_sss.fif.gz, raw_tsss.fif.gz, _meg.fif.gz, _eeg.fif.gz or _ieeg.fif.gz\n",
            "  final_raw.save(new_file_path, overwrite=True)\n"
          ]
        },
        {
          "output_type": "stream",
          "name": "stdout",
          "text": [
            "Closing /content/cleaned_data/second_session/Second_Session_Subjects.fif\n",
            "[done]\n"
          ]
        }
      ]
    },
    {
      "cell_type": "markdown",
      "source": [
        "**List of the events**  \n",
        "'1023': 1 Rejected trial  \n",
        "'1072': 2 Eye movements  \n",
        "'276': 3 Idling EEG (eyes open)  \n",
        "'277': 4 Idling EEG (eyes closed)  \n",
        "'32766': 5 Start of a new run  \n",
        "'768': 6 Start of a trial  \n",
        "'783': 7 Cue unknown"
      ],
      "metadata": {
        "id": "kgSKXweNM87Q"
      }
    },
    {
      "cell_type": "code",
      "source": [
        "events = mne.events_from_annotations(final_raw)\n",
        "events[1]"
      ],
      "metadata": {
        "id": "KIuyfy9DNAvO",
        "colab": {
          "base_uri": "https://localhost:8080/"
        },
        "outputId": "62aafe13-c308-4982-f970-2046b9a1ebbf"
      },
      "execution_count": null,
      "outputs": [
        {
          "output_type": "stream",
          "name": "stdout",
          "text": [
            "Used Annotations descriptions: ['1023', '1072', '276', '277', '32766', '768', '783']\n"
          ]
        },
        {
          "output_type": "execute_result",
          "data": {
            "text/plain": [
              "{'1023': 1, '1072': 2, '276': 3, '277': 4, '32766': 5, '768': 6, '783': 7}"
            ]
          },
          "metadata": {},
          "execution_count": 16
        }
      ]
    },
    {
      "cell_type": "code",
      "source": [
        "epochs = mne.Epochs(final_raw, events[0], event_id=7, tmin=0, tmax=4, reject=None, baseline=None, preload=None)\n",
        "second_session_data = epochs.get_data(copy=True)"
      ],
      "metadata": {
        "id": "KGDah5f4NCBr",
        "colab": {
          "base_uri": "https://localhost:8080/"
        },
        "outputId": "b509aa94-d3bc-47bd-8546-397f49f42500"
      },
      "execution_count": null,
      "outputs": [
        {
          "output_type": "stream",
          "name": "stdout",
          "text": [
            "Not setting metadata\n",
            "2592 matching events found\n",
            "No baseline correction applied\n",
            "0 projection items activated\n",
            "Using data from preloaded Raw for 2592 events and 1001 original time points ...\n",
            "0 bad epochs dropped\n"
          ]
        }
      ]
    },
    {
      "cell_type": "code",
      "source": [
        "print(\"Second Session Dataset shape:\",second_session_data.shape)"
      ],
      "metadata": {
        "id": "HFCG-UXrNRSZ",
        "colab": {
          "base_uri": "https://localhost:8080/"
        },
        "outputId": "5f665fe3-2e37-4d62-df4a-a899687cf485"
      },
      "execution_count": null,
      "outputs": [
        {
          "output_type": "stream",
          "name": "stdout",
          "text": [
            "Second Session Dataset shape: (2592, 22, 1001)\n"
          ]
        }
      ]
    },
    {
      "cell_type": "markdown",
      "source": [
        "###Structuring Data"
      ],
      "metadata": {
        "id": "nA0Hr5BMPE5e"
      }
    },
    {
      "cell_type": "code",
      "source": [
        "# Choosing Device\n",
        "device = torch.device(\"cuda\" if torch.cuda.is_available() else \"cpu\")\n",
        "\n",
        "# Loss Function\n",
        "criterion = nn.CrossEntropyLoss()\n",
        "\n",
        "# Normalizing Labels to [0, 1, 2, 3]\n",
        "y_train = first_session_labels - np.min(first_session_labels)\n",
        "y_test = second_session_labels - np.min(second_session_labels)\n",
        "\n",
        "# Normalizing Input features: z-score(mean=0, std=1)\n",
        "X_first_session = (first_session_data - np.mean(first_session_data)) / np.std(first_session_data)\n",
        "X_second_session = (second_session_data - np.mean(second_session_data)) / np.std(second_session_data)\n",
        "\n",
        "X = np.concatenate((X_first_session, X_second_session))\n",
        "y = np.concatenate((y_train, y_test))\n",
        "\n",
        "# Spliting  Data: 90% for Train and 10% for Test\n",
        "X_train, X_test, y_train, y_test = train_test_split(X, y, test_size=0.1, random_state=42, stratify=y)\n",
        "\n",
        "# Converting to Tensor\n",
        "X_train = torch.Tensor(X_train).unsqueeze(1).to(device)\n",
        "X_test = torch.Tensor(X_test).unsqueeze(1).to(device)\n",
        "y_train = torch.LongTensor(y_train).to(device)\n",
        "y_test = torch.LongTensor(y_test).to(device)\n",
        "\n",
        "# Creating Tensor Dataset\n",
        "train_dataset = TensorDataset(X_train, y_train)\n",
        "test_dataset = TensorDataset(X_test, y_test)\n",
        "\n",
        "# Printing the sizes\n",
        "print(\"Size of X_train:\", X_train.size())\n",
        "print(\"Size of X_test:\", X_test.size())\n",
        "print(\"Size of y_train:\", y_train.size())\n",
        "print(\"Size of y_test:\", y_test.size())\n"
      ],
      "metadata": {
        "id": "D5dF6ZydC2PP",
        "colab": {
          "base_uri": "https://localhost:8080/"
        },
        "outputId": "9981f3fd-8406-4c1e-8514-87619f68c2b8"
      },
      "execution_count": null,
      "outputs": [
        {
          "output_type": "stream",
          "name": "stdout",
          "text": [
            "Size of X_train: torch.Size([4665, 1, 22, 1001])\n",
            "Size of X_test: torch.Size([519, 1, 22, 1001])\n",
            "Size of y_train: torch.Size([4665])\n",
            "Size of y_test: torch.Size([519])\n"
          ]
        }
      ]
    },
    {
      "cell_type": "markdown",
      "source": [
        "#Training Class"
      ],
      "metadata": {
        "id": "xyXDZiZ4E4a_"
      }
    },
    {
      "cell_type": "code",
      "source": [
        "class TrainModel():\n",
        "    def __init__(self,):\n",
        "        self.device = torch.device(\"cuda\" if torch.cuda.is_available() else \"cpu\")\n",
        "\n",
        "    def train_model(self, model, train_dataset, learning_rate=0.001, batch_size=64, epochs=500):\n",
        "        model = model.to(self.device)\n",
        "        criterion = nn.CrossEntropyLoss()\n",
        "        optimizer = optim.Adam(model.parameters(), lr=learning_rate)\n",
        "        train_loader = DataLoader(train_dataset, batch_size=batch_size, shuffle=True)\n",
        "        highest_train_accuracy = 0.0\n",
        "\n",
        "        for epoch in range(epochs):\n",
        "            model.train()\n",
        "            running_loss = 0.0\n",
        "            correct = 0\n",
        "            total = 0\n",
        "            for inputs, labels in train_loader:\n",
        "                inputs = inputs.to(self.device)\n",
        "                labels = labels.to(self.device)\n",
        "\n",
        "                optimizer.zero_grad()\n",
        "                outputs, _ = model(inputs)\n",
        "                loss = criterion(outputs, labels)\n",
        "                loss.backward()\n",
        "                optimizer.step()\n",
        "\n",
        "                running_loss += loss.item() * inputs.size(0)\n",
        "                _, predicted = torch.max(outputs, 1)\n",
        "                total += labels.size(0)\n",
        "                correct += (predicted == labels).sum().item()\n",
        "\n",
        "            epoch_loss = running_loss / len(train_loader.dataset)\n",
        "            epoch_accuracy = correct / total\n",
        "            if epoch_accuracy > highest_train_accuracy:\n",
        "                highest_train_accuracy = epoch_accuracy\n",
        "            print(f\"Epoch {epoch+1}/{epochs}, Loss: {epoch_loss:.4f}, Accuracy: {(epoch_accuracy*100):.2f}%\")\n",
        "\n",
        "        average_loss = running_loss / len(train_loader.dataset)\n",
        "        print(\"Average Loss:\", average_loss)\n",
        "        print(f\"Highest Train Accuracy:{(highest_train_accuracy*100):.2f}\")\n",
        "\n",
        "        # Saving model\n",
        "        torch.save(model.state_dict(), 'eegnet_model.pth')\n",
        "        return model\n"
      ],
      "metadata": {
        "id": "F3nUwuQHE8Hi"
      },
      "execution_count": 74,
      "outputs": []
    },
    {
      "cell_type": "markdown",
      "source": [
        "#Evaluating Model"
      ],
      "metadata": {
        "id": "ObMKFBTxFLBJ"
      }
    },
    {
      "cell_type": "code",
      "source": [
        "class EvalModel():\n",
        "    def __init__(self, model):\n",
        "        self.model = model.to(device)\n",
        "        self.device = torch.device(\"cuda\" if torch.cuda.is_available() else \"cpu\")\n",
        "    def test_model(self, test_dataset):\n",
        "        self.model.eval()\n",
        "        correct = 0\n",
        "        total = 0\n",
        "        test_loader = DataLoader(test_dataset, batch_size=1, shuffle=False)\n",
        "\n",
        "        with torch.no_grad():\n",
        "            for inputs, labels in test_loader:\n",
        "                inputs = inputs.to(self.device)\n",
        "                labels = labels.to(self.device)\n",
        "                outputs, _ = self.model(inputs)\n",
        "                _, predicted = torch.max(outputs.data, 1)\n",
        "                total += labels.size(0)\n",
        "                correct += (predicted == labels).sum().item()\n",
        "\n",
        "        accuracy = (correct / total) * 100\n",
        "        print(\"/------------------------------/\")\n",
        "        print(f\"Test Accuracy: {accuracy:.2f}%\")\n",
        "        print(\"/------------------------------/\")\n",
        "        return accuracy\n",
        "\n",
        "    def plot_confusion_matrix(self, test_dataset, classes):\n",
        "        self.model.eval()\n",
        "        y_pred = []\n",
        "        y_true = []\n",
        "        test_loader = DataLoader(test_dataset, batch_size=1, shuffle=False)\n",
        "\n",
        "        with torch.no_grad():\n",
        "            for inputs, labels in test_loader:\n",
        "                inputs = inputs.to(self.device)\n",
        "                labels = labels.to(self.device)\n",
        "                outputs, _ = self.model(inputs)\n",
        "                _, predicted = torch.max(outputs.data, 1)\n",
        "                y_pred.append(predicted.item())\n",
        "                y_true.append(labels.item())\n",
        "\n",
        "        cf_matrix = confusion_matrix(y_true, y_pred)\n",
        "        cf_matrix = cf_matrix.astype('float') / cf_matrix.sum(axis=1)[:, np.newaxis]\n",
        "\n",
        "        df_cm = pd.DataFrame(cf_matrix, index=classes, columns=classes)\n",
        "\n",
        "        plt.figure(figsize=(10, 7))\n",
        "        sn.heatmap(df_cm, annot=True, cmap='Blues', fmt='.2f')\n",
        "        plt.xlabel('Predicted labels')\n",
        "        plt.ylabel('True labels')\n",
        "        plt.title('Confusion Matrix')\n",
        "        plt.savefig('confusion_matrix_model.png')\n",
        "        plt.show()\n"
      ],
      "metadata": {
        "id": "GxVYOQ_YFM4b"
      },
      "execution_count": null,
      "outputs": []
    },
    {
      "cell_type": "markdown",
      "source": [
        "#EEGNet Model"
      ],
      "metadata": {
        "id": "vR2z57zqC5iS"
      }
    },
    {
      "cell_type": "code",
      "source": [
        "class EEGNetModel(nn.Module): # EEGNET-8,2\n",
        "    def __init__(self, chans=22, classes=4, time_points=1001, temp_kernel=32,\n",
        "                 f1=16, f2=32, d=2, pk1=8, pk2=16, dropout_rate=0.5, max_norm1=1, max_norm2=0.25):\n",
        "        super(EEGNetModel, self).__init__()\n",
        "        # Calculating FC input features\n",
        "        linear_size = (time_points//(pk1*pk2))*f2\n",
        "\n",
        "        # Temporal Filters\n",
        "        self.block1 = nn.Sequential(\n",
        "            nn.Conv2d(1, f1, (1, temp_kernel), padding='same', bias=False),\n",
        "            nn.BatchNorm2d(f1),\n",
        "        )\n",
        "        # Spatial Filters\n",
        "        self.block2 = nn.Sequential(\n",
        "            nn.Conv2d(f1, d * f1, (chans, 1), groups=f1, bias=False), # Depthwise Conv\n",
        "            nn.BatchNorm2d(d * f1),\n",
        "            nn.ELU(),\n",
        "            nn.AvgPool2d((1, pk1)),\n",
        "            nn.Dropout(dropout_rate)\n",
        "        )\n",
        "        self.block3 = nn.Sequential(\n",
        "            nn.Conv2d(d * f1, f2, (1, 16),  groups=f2, bias=False, padding='same'), # Separable Conv\n",
        "            nn.Conv2d(f2, f2, kernel_size=1, bias=False), # Pointwise Conv\n",
        "            nn.BatchNorm2d(f2),\n",
        "            nn.ELU(),\n",
        "            nn.AvgPool2d((1, pk2)),\n",
        "            nn.Dropout(dropout_rate)\n",
        "        )\n",
        "        self.flatten = nn.Flatten()\n",
        "        self.fc = nn.Linear(linear_size, classes)\n",
        "\n",
        "        # Apply max_norm constraint to the depthwise layer in block2\n",
        "        self._apply_max_norm(self.block2[0], max_norm1)\n",
        "\n",
        "        # Apply max_norm constraint to the linear layer\n",
        "        self._apply_max_norm(self.fc, max_norm2)\n",
        "\n",
        "    def _apply_max_norm(self, layer, max_norm):\n",
        "        for name, param in layer.named_parameters():\n",
        "            if 'weight' in name:\n",
        "                param.data = torch.renorm(param.data, p=2, dim=0, maxnorm=max_norm)\n",
        "\n",
        "    def forward(self, x):\n",
        "        x = self.block1(x)\n",
        "        temporal_features = x\n",
        "        x = self.block2(x)\n",
        "        spatial_features1 = x\n",
        "        x = self.block3(x)\n",
        "        spatial_features2 = x\n",
        "        x = self.flatten(x)\n",
        "        x = self.fc(x)\n",
        "        return x, [temporal_features, spatial_features1, spatial_features2]\n"
      ],
      "metadata": {
        "id": "SmFhrHzSC8BE"
      },
      "execution_count": null,
      "outputs": []
    },
    {
      "cell_type": "markdown",
      "source": [
        "##Model Summery"
      ],
      "metadata": {
        "id": "M49ks2b8C_dP"
      }
    },
    {
      "cell_type": "code",
      "source": [
        "input_size = (1, 22, 1001)\n",
        "eegnet_model = EEGNetModel().to(device)\n",
        "summary(eegnet_model, input_size)"
      ],
      "metadata": {
        "id": "7NdOeIRtDAOn",
        "colab": {
          "base_uri": "https://localhost:8080/"
        },
        "outputId": "426d02bd-26d4-4ceb-8755-6a2ec83d6a45"
      },
      "execution_count": null,
      "outputs": [
        {
          "output_type": "stream",
          "name": "stdout",
          "text": [
            "==========================================================================================\n",
            "Layer (type:depth-idx)                   Output Shape              Param #\n",
            "==========================================================================================\n",
            "├─Sequential: 1-1                        [-1, 16, 22, 1001]        --\n",
            "|    └─Conv2d: 2-1                       [-1, 16, 22, 1001]        512\n",
            "|    └─BatchNorm2d: 2-2                  [-1, 16, 22, 1001]        32\n",
            "├─Sequential: 1-2                        [-1, 32, 1, 125]          --\n",
            "|    └─Conv2d: 2-3                       [-1, 32, 1, 1001]         704\n",
            "|    └─BatchNorm2d: 2-4                  [-1, 32, 1, 1001]         64\n",
            "|    └─ELU: 2-5                          [-1, 32, 1, 1001]         --\n",
            "|    └─AvgPool2d: 2-6                    [-1, 32, 1, 125]          --\n",
            "|    └─Dropout: 2-7                      [-1, 32, 1, 125]          --\n",
            "├─Sequential: 1-3                        [-1, 32, 1, 7]            --\n",
            "|    └─Conv2d: 2-8                       [-1, 32, 1, 125]          512\n",
            "|    └─Conv2d: 2-9                       [-1, 32, 1, 125]          1,024\n",
            "|    └─BatchNorm2d: 2-10                 [-1, 32, 1, 125]          64\n",
            "|    └─ELU: 2-11                         [-1, 32, 1, 125]          --\n",
            "|    └─AvgPool2d: 2-12                   [-1, 32, 1, 7]            --\n",
            "|    └─Dropout: 2-13                     [-1, 32, 1, 7]            --\n",
            "├─Flatten: 1-4                           [-1, 224]                 --\n",
            "├─Linear: 1-5                            [-1, 4]                   900\n",
            "==========================================================================================\n",
            "Total params: 3,812\n",
            "Trainable params: 3,812\n",
            "Non-trainable params: 0\n",
            "Total mult-adds (M): 12.18\n",
            "==========================================================================================\n",
            "Input size (MB): 0.08\n",
            "Forward/backward pass size (MB): 5.96\n",
            "Params size (MB): 0.01\n",
            "Estimated Total Size (MB): 6.06\n",
            "==========================================================================================\n"
          ]
        },
        {
          "output_type": "stream",
          "name": "stderr",
          "text": [
            "/usr/local/lib/python3.10/dist-packages/torch/nn/modules/conv.py:456: UserWarning: Using padding='same' with even kernel lengths and odd dilation may require a zero-padded copy of the input be created (Triggered internally at ../aten/src/ATen/native/Convolution.cpp:1031.)\n",
            "  return F.conv2d(input, weight, bias, self.stride,\n"
          ]
        },
        {
          "output_type": "execute_result",
          "data": {
            "text/plain": [
              "==========================================================================================\n",
              "Layer (type:depth-idx)                   Output Shape              Param #\n",
              "==========================================================================================\n",
              "├─Sequential: 1-1                        [-1, 16, 22, 1001]        --\n",
              "|    └─Conv2d: 2-1                       [-1, 16, 22, 1001]        512\n",
              "|    └─BatchNorm2d: 2-2                  [-1, 16, 22, 1001]        32\n",
              "├─Sequential: 1-2                        [-1, 32, 1, 125]          --\n",
              "|    └─Conv2d: 2-3                       [-1, 32, 1, 1001]         704\n",
              "|    └─BatchNorm2d: 2-4                  [-1, 32, 1, 1001]         64\n",
              "|    └─ELU: 2-5                          [-1, 32, 1, 1001]         --\n",
              "|    └─AvgPool2d: 2-6                    [-1, 32, 1, 125]          --\n",
              "|    └─Dropout: 2-7                      [-1, 32, 1, 125]          --\n",
              "├─Sequential: 1-3                        [-1, 32, 1, 7]            --\n",
              "|    └─Conv2d: 2-8                       [-1, 32, 1, 125]          512\n",
              "|    └─Conv2d: 2-9                       [-1, 32, 1, 125]          1,024\n",
              "|    └─BatchNorm2d: 2-10                 [-1, 32, 1, 125]          64\n",
              "|    └─ELU: 2-11                         [-1, 32, 1, 125]          --\n",
              "|    └─AvgPool2d: 2-12                   [-1, 32, 1, 7]            --\n",
              "|    └─Dropout: 2-13                     [-1, 32, 1, 7]            --\n",
              "├─Flatten: 1-4                           [-1, 224]                 --\n",
              "├─Linear: 1-5                            [-1, 4]                   900\n",
              "==========================================================================================\n",
              "Total params: 3,812\n",
              "Trainable params: 3,812\n",
              "Non-trainable params: 0\n",
              "Total mult-adds (M): 12.18\n",
              "==========================================================================================\n",
              "Input size (MB): 0.08\n",
              "Forward/backward pass size (MB): 5.96\n",
              "Params size (MB): 0.01\n",
              "Estimated Total Size (MB): 6.06\n",
              "=========================================================================================="
            ]
          },
          "metadata": {},
          "execution_count": 24
        }
      ]
    },
    {
      "cell_type": "markdown",
      "source": [
        "##Training Model"
      ],
      "metadata": {
        "id": "95r4EymoDCIv"
      }
    },
    {
      "cell_type": "code",
      "source": [
        "eegnet_model = EEGNetModel().to(device)\n",
        "\n",
        "# Training Hyperparameters\n",
        "EPOCHS = 500\n",
        "BATCH_SIZE = 64\n",
        "LEARNING_RATE = 0.001\n",
        "trainer = TrainModel()\n",
        "trained_eegnet_model = trainer.train_model(eegnet_model, train_dataset, learning_rate=LEARNING_RATE,\n",
        "                                   batch_size=BATCH_SIZE, epochs=EPOCHS)\n",
        "torch.save(trained_eegnet_model.state_dict(), 'eegnet_model.pth')\n"
      ],
      "metadata": {
        "id": "TJzl6On9DFcp",
        "colab": {
          "base_uri": "https://localhost:8080/"
        },
        "outputId": "e21abb0f-deee-47f2-f29b-80c9dce1d8c3"
      },
      "execution_count": null,
      "outputs": [
        {
          "output_type": "stream",
          "name": "stdout",
          "text": [
            "Epoch 1/500, Loss: 1.3744, Accuracy: 28.79%\n",
            "Epoch 2/500, Loss: 1.3349, Accuracy: 33.80%\n",
            "Epoch 3/500, Loss: 1.2905, Accuracy: 39.08%\n",
            "Epoch 4/500, Loss: 1.2549, Accuracy: 40.11%\n",
            "Epoch 5/500, Loss: 1.2360, Accuracy: 41.78%\n",
            "Epoch 6/500, Loss: 1.2051, Accuracy: 45.27%\n",
            "Epoch 7/500, Loss: 1.1918, Accuracy: 46.13%\n",
            "Epoch 8/500, Loss: 1.1720, Accuracy: 47.29%\n",
            "Epoch 9/500, Loss: 1.1568, Accuracy: 47.74%\n",
            "Epoch 10/500, Loss: 1.1418, Accuracy: 48.25%\n",
            "Epoch 11/500, Loss: 1.1376, Accuracy: 49.32%\n",
            "Epoch 12/500, Loss: 1.1307, Accuracy: 48.96%\n",
            "Epoch 13/500, Loss: 1.1202, Accuracy: 50.10%\n",
            "Epoch 14/500, Loss: 1.1153, Accuracy: 50.27%\n",
            "Epoch 15/500, Loss: 1.1019, Accuracy: 50.78%\n",
            "Epoch 16/500, Loss: 1.1129, Accuracy: 50.08%\n",
            "Epoch 17/500, Loss: 1.0931, Accuracy: 51.83%\n",
            "Epoch 18/500, Loss: 1.1073, Accuracy: 51.02%\n",
            "Epoch 19/500, Loss: 1.0872, Accuracy: 52.69%\n",
            "Epoch 20/500, Loss: 1.0885, Accuracy: 52.65%\n",
            "Epoch 21/500, Loss: 1.0867, Accuracy: 52.30%\n",
            "Epoch 22/500, Loss: 1.0753, Accuracy: 52.82%\n",
            "Epoch 23/500, Loss: 1.0781, Accuracy: 52.58%\n",
            "Epoch 24/500, Loss: 1.0738, Accuracy: 53.08%\n",
            "Epoch 25/500, Loss: 1.0591, Accuracy: 54.23%\n",
            "Epoch 26/500, Loss: 1.0583, Accuracy: 53.18%\n",
            "Epoch 27/500, Loss: 1.0565, Accuracy: 53.29%\n",
            "Epoch 28/500, Loss: 1.0681, Accuracy: 53.59%\n",
            "Epoch 29/500, Loss: 1.0469, Accuracy: 53.78%\n",
            "Epoch 30/500, Loss: 1.0498, Accuracy: 53.85%\n",
            "Epoch 31/500, Loss: 1.0401, Accuracy: 54.45%\n",
            "Epoch 32/500, Loss: 1.0441, Accuracy: 54.90%\n",
            "Epoch 33/500, Loss: 1.0476, Accuracy: 54.23%\n",
            "Epoch 34/500, Loss: 1.0397, Accuracy: 54.06%\n",
            "Epoch 35/500, Loss: 1.0324, Accuracy: 54.94%\n",
            "Epoch 36/500, Loss: 1.0311, Accuracy: 55.05%\n",
            "Epoch 37/500, Loss: 1.0283, Accuracy: 55.52%\n",
            "Epoch 38/500, Loss: 1.0288, Accuracy: 55.33%\n",
            "Epoch 39/500, Loss: 1.0165, Accuracy: 55.11%\n",
            "Epoch 40/500, Loss: 1.0186, Accuracy: 56.40%\n",
            "Epoch 41/500, Loss: 1.0168, Accuracy: 56.46%\n",
            "Epoch 42/500, Loss: 0.9926, Accuracy: 59.01%\n",
            "Epoch 43/500, Loss: 1.0035, Accuracy: 56.42%\n",
            "Epoch 44/500, Loss: 1.0090, Accuracy: 56.91%\n",
            "Epoch 45/500, Loss: 1.0120, Accuracy: 56.25%\n",
            "Epoch 46/500, Loss: 1.0080, Accuracy: 56.72%\n",
            "Epoch 47/500, Loss: 1.0015, Accuracy: 57.43%\n",
            "Epoch 48/500, Loss: 1.0089, Accuracy: 57.28%\n",
            "Epoch 49/500, Loss: 1.0080, Accuracy: 57.34%\n",
            "Epoch 50/500, Loss: 1.0073, Accuracy: 56.96%\n",
            "Epoch 51/500, Loss: 0.9931, Accuracy: 58.03%\n",
            "Epoch 52/500, Loss: 0.9945, Accuracy: 57.53%\n",
            "Epoch 53/500, Loss: 0.9842, Accuracy: 58.33%\n",
            "Epoch 54/500, Loss: 0.9782, Accuracy: 59.16%\n",
            "Epoch 55/500, Loss: 0.9877, Accuracy: 57.77%\n",
            "Epoch 56/500, Loss: 0.9796, Accuracy: 58.48%\n",
            "Epoch 57/500, Loss: 0.9818, Accuracy: 58.48%\n",
            "Epoch 58/500, Loss: 0.9748, Accuracy: 59.29%\n",
            "Epoch 59/500, Loss: 0.9690, Accuracy: 58.91%\n",
            "Epoch 60/500, Loss: 0.9866, Accuracy: 58.61%\n",
            "Epoch 61/500, Loss: 0.9783, Accuracy: 58.93%\n",
            "Epoch 62/500, Loss: 0.9604, Accuracy: 59.83%\n",
            "Epoch 63/500, Loss: 0.9723, Accuracy: 59.25%\n",
            "Epoch 64/500, Loss: 0.9659, Accuracy: 59.83%\n",
            "Epoch 65/500, Loss: 0.9548, Accuracy: 59.25%\n",
            "Epoch 66/500, Loss: 0.9669, Accuracy: 59.08%\n",
            "Epoch 67/500, Loss: 0.9683, Accuracy: 59.53%\n",
            "Epoch 68/500, Loss: 0.9557, Accuracy: 59.94%\n",
            "Epoch 69/500, Loss: 0.9540, Accuracy: 60.11%\n",
            "Epoch 70/500, Loss: 0.9478, Accuracy: 59.76%\n",
            "Epoch 71/500, Loss: 0.9474, Accuracy: 60.64%\n",
            "Epoch 72/500, Loss: 0.9454, Accuracy: 59.51%\n",
            "Epoch 73/500, Loss: 0.9374, Accuracy: 60.75%\n",
            "Epoch 74/500, Loss: 0.9514, Accuracy: 60.56%\n",
            "Epoch 75/500, Loss: 0.9357, Accuracy: 61.33%\n",
            "Epoch 76/500, Loss: 0.9347, Accuracy: 61.14%\n",
            "Epoch 77/500, Loss: 0.9433, Accuracy: 59.81%\n",
            "Epoch 78/500, Loss: 0.9377, Accuracy: 60.90%\n",
            "Epoch 79/500, Loss: 0.9355, Accuracy: 60.45%\n",
            "Epoch 80/500, Loss: 0.9361, Accuracy: 60.45%\n",
            "Epoch 81/500, Loss: 0.9411, Accuracy: 60.69%\n",
            "Epoch 82/500, Loss: 0.9394, Accuracy: 60.39%\n",
            "Epoch 83/500, Loss: 0.9331, Accuracy: 61.76%\n",
            "Epoch 84/500, Loss: 0.9368, Accuracy: 60.86%\n",
            "Epoch 85/500, Loss: 0.9136, Accuracy: 61.52%\n",
            "Epoch 86/500, Loss: 0.9308, Accuracy: 60.60%\n",
            "Epoch 87/500, Loss: 0.9344, Accuracy: 60.88%\n",
            "Epoch 88/500, Loss: 0.9231, Accuracy: 61.05%\n",
            "Epoch 89/500, Loss: 0.9264, Accuracy: 61.74%\n",
            "Epoch 90/500, Loss: 0.9206, Accuracy: 62.14%\n",
            "Epoch 91/500, Loss: 0.9020, Accuracy: 63.37%\n",
            "Epoch 92/500, Loss: 0.9375, Accuracy: 61.67%\n",
            "Epoch 93/500, Loss: 0.9168, Accuracy: 63.15%\n",
            "Epoch 94/500, Loss: 0.9142, Accuracy: 62.87%\n",
            "Epoch 95/500, Loss: 0.9215, Accuracy: 61.37%\n",
            "Epoch 96/500, Loss: 0.9142, Accuracy: 62.70%\n",
            "Epoch 97/500, Loss: 0.9075, Accuracy: 62.34%\n",
            "Epoch 98/500, Loss: 0.9038, Accuracy: 62.25%\n",
            "Epoch 99/500, Loss: 0.9040, Accuracy: 63.37%\n",
            "Epoch 100/500, Loss: 0.9042, Accuracy: 63.19%\n",
            "Epoch 101/500, Loss: 0.9214, Accuracy: 61.82%\n",
            "Epoch 102/500, Loss: 0.9050, Accuracy: 62.94%\n",
            "Epoch 103/500, Loss: 0.9063, Accuracy: 62.96%\n",
            "Epoch 104/500, Loss: 0.9230, Accuracy: 62.27%\n",
            "Epoch 105/500, Loss: 0.9059, Accuracy: 62.64%\n",
            "Epoch 106/500, Loss: 0.9257, Accuracy: 62.02%\n",
            "Epoch 107/500, Loss: 0.8910, Accuracy: 62.66%\n",
            "Epoch 108/500, Loss: 0.8985, Accuracy: 63.09%\n",
            "Epoch 109/500, Loss: 0.9014, Accuracy: 62.68%\n",
            "Epoch 110/500, Loss: 0.8973, Accuracy: 62.98%\n",
            "Epoch 111/500, Loss: 0.9029, Accuracy: 63.26%\n",
            "Epoch 112/500, Loss: 0.8959, Accuracy: 63.79%\n",
            "Epoch 113/500, Loss: 0.9037, Accuracy: 62.74%\n",
            "Epoch 114/500, Loss: 0.8918, Accuracy: 63.45%\n",
            "Epoch 115/500, Loss: 0.8985, Accuracy: 63.45%\n",
            "Epoch 116/500, Loss: 0.8918, Accuracy: 63.07%\n",
            "Epoch 117/500, Loss: 0.8919, Accuracy: 62.77%\n",
            "Epoch 118/500, Loss: 0.8977, Accuracy: 63.00%\n",
            "Epoch 119/500, Loss: 0.8982, Accuracy: 62.94%\n",
            "Epoch 120/500, Loss: 0.8756, Accuracy: 64.16%\n",
            "Epoch 121/500, Loss: 0.8905, Accuracy: 63.09%\n",
            "Epoch 122/500, Loss: 0.8972, Accuracy: 63.97%\n",
            "Epoch 123/500, Loss: 0.8880, Accuracy: 63.94%\n",
            "Epoch 124/500, Loss: 0.8834, Accuracy: 63.34%\n",
            "Epoch 125/500, Loss: 0.8876, Accuracy: 63.79%\n",
            "Epoch 126/500, Loss: 0.8867, Accuracy: 62.49%\n",
            "Epoch 127/500, Loss: 0.8962, Accuracy: 63.04%\n",
            "Epoch 128/500, Loss: 0.8807, Accuracy: 63.99%\n",
            "Epoch 129/500, Loss: 0.8778, Accuracy: 63.82%\n",
            "Epoch 130/500, Loss: 0.8891, Accuracy: 63.77%\n",
            "Epoch 131/500, Loss: 0.8824, Accuracy: 64.01%\n",
            "Epoch 132/500, Loss: 0.8745, Accuracy: 64.05%\n",
            "Epoch 133/500, Loss: 0.8706, Accuracy: 64.84%\n",
            "Epoch 134/500, Loss: 0.8685, Accuracy: 65.21%\n",
            "Epoch 135/500, Loss: 0.8639, Accuracy: 64.31%\n",
            "Epoch 136/500, Loss: 0.8739, Accuracy: 64.03%\n",
            "Epoch 137/500, Loss: 0.8725, Accuracy: 63.75%\n",
            "Epoch 138/500, Loss: 0.8830, Accuracy: 64.16%\n",
            "Epoch 139/500, Loss: 0.8669, Accuracy: 64.87%\n",
            "Epoch 140/500, Loss: 0.8667, Accuracy: 65.49%\n",
            "Epoch 141/500, Loss: 0.8711, Accuracy: 64.22%\n",
            "Epoch 142/500, Loss: 0.8748, Accuracy: 63.99%\n",
            "Epoch 143/500, Loss: 0.8582, Accuracy: 64.99%\n",
            "Epoch 144/500, Loss: 0.8818, Accuracy: 63.75%\n",
            "Epoch 145/500, Loss: 0.8719, Accuracy: 64.42%\n",
            "Epoch 146/500, Loss: 0.8694, Accuracy: 64.31%\n",
            "Epoch 147/500, Loss: 0.8708, Accuracy: 63.75%\n",
            "Epoch 148/500, Loss: 0.8799, Accuracy: 63.67%\n",
            "Epoch 149/500, Loss: 0.8705, Accuracy: 65.55%\n",
            "Epoch 150/500, Loss: 0.8624, Accuracy: 64.99%\n",
            "Epoch 151/500, Loss: 0.8637, Accuracy: 64.50%\n",
            "Epoch 152/500, Loss: 0.8665, Accuracy: 64.80%\n",
            "Epoch 153/500, Loss: 0.8709, Accuracy: 64.33%\n",
            "Epoch 154/500, Loss: 0.8723, Accuracy: 63.82%\n",
            "Epoch 155/500, Loss: 0.8763, Accuracy: 63.90%\n",
            "Epoch 156/500, Loss: 0.8734, Accuracy: 63.82%\n",
            "Epoch 157/500, Loss: 0.8716, Accuracy: 64.99%\n",
            "Epoch 158/500, Loss: 0.8718, Accuracy: 63.58%\n",
            "Epoch 159/500, Loss: 0.8666, Accuracy: 64.57%\n",
            "Epoch 160/500, Loss: 0.8663, Accuracy: 64.20%\n",
            "Epoch 161/500, Loss: 0.8700, Accuracy: 64.31%\n",
            "Epoch 162/500, Loss: 0.8489, Accuracy: 65.57%\n",
            "Epoch 163/500, Loss: 0.8488, Accuracy: 65.55%\n",
            "Epoch 164/500, Loss: 0.8602, Accuracy: 65.36%\n",
            "Epoch 165/500, Loss: 0.8833, Accuracy: 65.02%\n",
            "Epoch 166/500, Loss: 0.8603, Accuracy: 65.29%\n",
            "Epoch 167/500, Loss: 0.8575, Accuracy: 64.93%\n",
            "Epoch 168/500, Loss: 0.8583, Accuracy: 65.57%\n",
            "Epoch 169/500, Loss: 0.8520, Accuracy: 65.64%\n",
            "Epoch 170/500, Loss: 0.8517, Accuracy: 64.50%\n",
            "Epoch 171/500, Loss: 0.8608, Accuracy: 65.51%\n",
            "Epoch 172/500, Loss: 0.8491, Accuracy: 65.51%\n",
            "Epoch 173/500, Loss: 0.8473, Accuracy: 65.72%\n",
            "Epoch 174/500, Loss: 0.8817, Accuracy: 64.20%\n",
            "Epoch 175/500, Loss: 0.8749, Accuracy: 64.39%\n",
            "Epoch 176/500, Loss: 0.8666, Accuracy: 64.95%\n",
            "Epoch 177/500, Loss: 0.8581, Accuracy: 65.40%\n",
            "Epoch 178/500, Loss: 0.8347, Accuracy: 66.32%\n",
            "Epoch 179/500, Loss: 0.8409, Accuracy: 64.84%\n",
            "Epoch 180/500, Loss: 0.8537, Accuracy: 65.34%\n",
            "Epoch 181/500, Loss: 0.8473, Accuracy: 64.93%\n",
            "Epoch 182/500, Loss: 0.8439, Accuracy: 64.84%\n",
            "Epoch 183/500, Loss: 0.8638, Accuracy: 65.08%\n",
            "Epoch 184/500, Loss: 0.8362, Accuracy: 66.15%\n",
            "Epoch 185/500, Loss: 0.8551, Accuracy: 65.32%\n",
            "Epoch 186/500, Loss: 0.8492, Accuracy: 65.23%\n",
            "Epoch 187/500, Loss: 0.8572, Accuracy: 65.19%\n",
            "Epoch 188/500, Loss: 0.8511, Accuracy: 65.29%\n",
            "Epoch 189/500, Loss: 0.8438, Accuracy: 65.79%\n",
            "Epoch 190/500, Loss: 0.8520, Accuracy: 65.14%\n",
            "Epoch 191/500, Loss: 0.8525, Accuracy: 65.36%\n",
            "Epoch 192/500, Loss: 0.8637, Accuracy: 64.99%\n",
            "Epoch 193/500, Loss: 0.8532, Accuracy: 64.82%\n",
            "Epoch 194/500, Loss: 0.8570, Accuracy: 64.89%\n",
            "Epoch 195/500, Loss: 0.8469, Accuracy: 65.77%\n",
            "Epoch 196/500, Loss: 0.8631, Accuracy: 65.21%\n",
            "Epoch 197/500, Loss: 0.8424, Accuracy: 65.44%\n",
            "Epoch 198/500, Loss: 0.8357, Accuracy: 66.17%\n",
            "Epoch 199/500, Loss: 0.8451, Accuracy: 65.49%\n",
            "Epoch 200/500, Loss: 0.8399, Accuracy: 65.72%\n",
            "Epoch 201/500, Loss: 0.8570, Accuracy: 65.12%\n",
            "Epoch 202/500, Loss: 0.8335, Accuracy: 66.15%\n",
            "Epoch 203/500, Loss: 0.8399, Accuracy: 65.83%\n",
            "Epoch 204/500, Loss: 0.8455, Accuracy: 65.40%\n",
            "Epoch 205/500, Loss: 0.8531, Accuracy: 65.12%\n",
            "Epoch 206/500, Loss: 0.8345, Accuracy: 66.30%\n",
            "Epoch 207/500, Loss: 0.8397, Accuracy: 66.05%\n",
            "Epoch 208/500, Loss: 0.8587, Accuracy: 64.39%\n",
            "Epoch 209/500, Loss: 0.8454, Accuracy: 65.64%\n",
            "Epoch 210/500, Loss: 0.8423, Accuracy: 65.98%\n",
            "Epoch 211/500, Loss: 0.8325, Accuracy: 65.92%\n",
            "Epoch 212/500, Loss: 0.8403, Accuracy: 66.50%\n",
            "Epoch 213/500, Loss: 0.8352, Accuracy: 65.36%\n",
            "Epoch 214/500, Loss: 0.8438, Accuracy: 66.67%\n",
            "Epoch 215/500, Loss: 0.8247, Accuracy: 67.44%\n",
            "Epoch 216/500, Loss: 0.8250, Accuracy: 67.03%\n",
            "Epoch 217/500, Loss: 0.8335, Accuracy: 65.06%\n",
            "Epoch 218/500, Loss: 0.8184, Accuracy: 66.99%\n",
            "Epoch 219/500, Loss: 0.8406, Accuracy: 66.15%\n",
            "Epoch 220/500, Loss: 0.8384, Accuracy: 66.15%\n",
            "Epoch 221/500, Loss: 0.8170, Accuracy: 66.77%\n",
            "Epoch 222/500, Loss: 0.8176, Accuracy: 66.69%\n",
            "Epoch 223/500, Loss: 0.8310, Accuracy: 66.52%\n",
            "Epoch 224/500, Loss: 0.8410, Accuracy: 65.57%\n",
            "Epoch 225/500, Loss: 0.8326, Accuracy: 65.74%\n",
            "Epoch 226/500, Loss: 0.8397, Accuracy: 66.39%\n",
            "Epoch 227/500, Loss: 0.8250, Accuracy: 66.92%\n",
            "Epoch 228/500, Loss: 0.8447, Accuracy: 65.96%\n",
            "Epoch 229/500, Loss: 0.8345, Accuracy: 66.41%\n",
            "Epoch 230/500, Loss: 0.8285, Accuracy: 66.17%\n",
            "Epoch 231/500, Loss: 0.8400, Accuracy: 66.54%\n",
            "Epoch 232/500, Loss: 0.8354, Accuracy: 65.74%\n",
            "Epoch 233/500, Loss: 0.8366, Accuracy: 66.92%\n",
            "Epoch 234/500, Loss: 0.8321, Accuracy: 66.58%\n",
            "Epoch 235/500, Loss: 0.8200, Accuracy: 67.18%\n",
            "Epoch 236/500, Loss: 0.8209, Accuracy: 65.92%\n",
            "Epoch 237/500, Loss: 0.8322, Accuracy: 66.13%\n",
            "Epoch 238/500, Loss: 0.8249, Accuracy: 66.43%\n",
            "Epoch 239/500, Loss: 0.8248, Accuracy: 66.62%\n",
            "Epoch 240/500, Loss: 0.8350, Accuracy: 65.89%\n",
            "Epoch 241/500, Loss: 0.8220, Accuracy: 66.47%\n",
            "Epoch 242/500, Loss: 0.8155, Accuracy: 67.57%\n",
            "Epoch 243/500, Loss: 0.8204, Accuracy: 67.03%\n",
            "Epoch 244/500, Loss: 0.8320, Accuracy: 66.07%\n",
            "Epoch 245/500, Loss: 0.8236, Accuracy: 67.03%\n",
            "Epoch 246/500, Loss: 0.8185, Accuracy: 66.97%\n",
            "Epoch 247/500, Loss: 0.8231, Accuracy: 65.98%\n",
            "Epoch 248/500, Loss: 0.8106, Accuracy: 67.89%\n",
            "Epoch 249/500, Loss: 0.8264, Accuracy: 66.07%\n",
            "Epoch 250/500, Loss: 0.8163, Accuracy: 66.13%\n",
            "Epoch 251/500, Loss: 0.8235, Accuracy: 67.85%\n",
            "Epoch 252/500, Loss: 0.8162, Accuracy: 66.92%\n",
            "Epoch 253/500, Loss: 0.8304, Accuracy: 66.22%\n",
            "Epoch 254/500, Loss: 0.8337, Accuracy: 66.39%\n",
            "Epoch 255/500, Loss: 0.8397, Accuracy: 66.09%\n",
            "Epoch 256/500, Loss: 0.8115, Accuracy: 67.33%\n",
            "Epoch 257/500, Loss: 0.8046, Accuracy: 67.10%\n",
            "Epoch 258/500, Loss: 0.8133, Accuracy: 67.52%\n",
            "Epoch 259/500, Loss: 0.8280, Accuracy: 65.81%\n",
            "Epoch 260/500, Loss: 0.8086, Accuracy: 67.05%\n",
            "Epoch 261/500, Loss: 0.8191, Accuracy: 66.92%\n",
            "Epoch 262/500, Loss: 0.8272, Accuracy: 66.41%\n",
            "Epoch 263/500, Loss: 0.8287, Accuracy: 67.07%\n",
            "Epoch 264/500, Loss: 0.8144, Accuracy: 67.70%\n",
            "Epoch 265/500, Loss: 0.8135, Accuracy: 66.92%\n",
            "Epoch 266/500, Loss: 0.8170, Accuracy: 67.89%\n",
            "Epoch 267/500, Loss: 0.8342, Accuracy: 66.82%\n",
            "Epoch 268/500, Loss: 0.8355, Accuracy: 65.94%\n",
            "Epoch 269/500, Loss: 0.8196, Accuracy: 67.31%\n",
            "Epoch 270/500, Loss: 0.8104, Accuracy: 67.35%\n",
            "Epoch 271/500, Loss: 0.8227, Accuracy: 67.50%\n",
            "Epoch 272/500, Loss: 0.8177, Accuracy: 66.39%\n",
            "Epoch 273/500, Loss: 0.8192, Accuracy: 67.44%\n",
            "Epoch 274/500, Loss: 0.8125, Accuracy: 67.70%\n",
            "Epoch 275/500, Loss: 0.8030, Accuracy: 67.95%\n",
            "Epoch 276/500, Loss: 0.8081, Accuracy: 67.65%\n",
            "Epoch 277/500, Loss: 0.8175, Accuracy: 67.10%\n",
            "Epoch 278/500, Loss: 0.8010, Accuracy: 67.93%\n",
            "Epoch 279/500, Loss: 0.8174, Accuracy: 67.63%\n",
            "Epoch 280/500, Loss: 0.7981, Accuracy: 68.06%\n",
            "Epoch 281/500, Loss: 0.8195, Accuracy: 66.71%\n",
            "Epoch 282/500, Loss: 0.8055, Accuracy: 68.15%\n",
            "Epoch 283/500, Loss: 0.8057, Accuracy: 68.15%\n",
            "Epoch 284/500, Loss: 0.8214, Accuracy: 67.03%\n",
            "Epoch 285/500, Loss: 0.7930, Accuracy: 67.52%\n",
            "Epoch 286/500, Loss: 0.7994, Accuracy: 67.89%\n",
            "Epoch 287/500, Loss: 0.7899, Accuracy: 67.93%\n",
            "Epoch 288/500, Loss: 0.8126, Accuracy: 66.58%\n",
            "Epoch 289/500, Loss: 0.8103, Accuracy: 67.05%\n",
            "Epoch 290/500, Loss: 0.8228, Accuracy: 65.83%\n",
            "Epoch 291/500, Loss: 0.8054, Accuracy: 67.46%\n",
            "Epoch 292/500, Loss: 0.7993, Accuracy: 68.04%\n",
            "Epoch 293/500, Loss: 0.8062, Accuracy: 67.27%\n",
            "Epoch 294/500, Loss: 0.8101, Accuracy: 66.92%\n",
            "Epoch 295/500, Loss: 0.8195, Accuracy: 65.96%\n",
            "Epoch 296/500, Loss: 0.8007, Accuracy: 67.87%\n",
            "Epoch 297/500, Loss: 0.7956, Accuracy: 67.76%\n",
            "Epoch 298/500, Loss: 0.8075, Accuracy: 66.80%\n",
            "Epoch 299/500, Loss: 0.8075, Accuracy: 67.55%\n",
            "Epoch 300/500, Loss: 0.8062, Accuracy: 67.37%\n",
            "Epoch 301/500, Loss: 0.8124, Accuracy: 67.16%\n",
            "Epoch 302/500, Loss: 0.8133, Accuracy: 67.01%\n",
            "Epoch 303/500, Loss: 0.7985, Accuracy: 67.97%\n",
            "Epoch 304/500, Loss: 0.7948, Accuracy: 67.91%\n",
            "Epoch 305/500, Loss: 0.8164, Accuracy: 66.84%\n",
            "Epoch 306/500, Loss: 0.8059, Accuracy: 67.35%\n",
            "Epoch 307/500, Loss: 0.8016, Accuracy: 67.59%\n",
            "Epoch 308/500, Loss: 0.8057, Accuracy: 67.42%\n",
            "Epoch 309/500, Loss: 0.8000, Accuracy: 67.80%\n",
            "Epoch 310/500, Loss: 0.7971, Accuracy: 68.02%\n",
            "Epoch 311/500, Loss: 0.8093, Accuracy: 67.93%\n",
            "Epoch 312/500, Loss: 0.7945, Accuracy: 67.63%\n",
            "Epoch 313/500, Loss: 0.8115, Accuracy: 66.67%\n",
            "Epoch 314/500, Loss: 0.8127, Accuracy: 66.71%\n",
            "Epoch 315/500, Loss: 0.8046, Accuracy: 67.29%\n",
            "Epoch 316/500, Loss: 0.7937, Accuracy: 67.61%\n",
            "Epoch 317/500, Loss: 0.8123, Accuracy: 67.01%\n",
            "Epoch 318/500, Loss: 0.7829, Accuracy: 68.85%\n",
            "Epoch 319/500, Loss: 0.7850, Accuracy: 68.15%\n",
            "Epoch 320/500, Loss: 0.7943, Accuracy: 68.08%\n",
            "Epoch 321/500, Loss: 0.8017, Accuracy: 67.59%\n",
            "Epoch 322/500, Loss: 0.7973, Accuracy: 67.91%\n",
            "Epoch 323/500, Loss: 0.7918, Accuracy: 68.45%\n",
            "Epoch 324/500, Loss: 0.7922, Accuracy: 67.67%\n",
            "Epoch 325/500, Loss: 0.7953, Accuracy: 68.19%\n",
            "Epoch 326/500, Loss: 0.7862, Accuracy: 67.76%\n",
            "Epoch 327/500, Loss: 0.7977, Accuracy: 67.97%\n",
            "Epoch 328/500, Loss: 0.8032, Accuracy: 67.93%\n",
            "Epoch 329/500, Loss: 0.7965, Accuracy: 67.87%\n",
            "Epoch 330/500, Loss: 0.7966, Accuracy: 67.82%\n",
            "Epoch 331/500, Loss: 0.7965, Accuracy: 68.92%\n",
            "Epoch 332/500, Loss: 0.7930, Accuracy: 68.17%\n",
            "Epoch 333/500, Loss: 0.8037, Accuracy: 67.78%\n",
            "Epoch 334/500, Loss: 0.7972, Accuracy: 68.23%\n",
            "Epoch 335/500, Loss: 0.7995, Accuracy: 67.50%\n",
            "Epoch 336/500, Loss: 0.8190, Accuracy: 66.80%\n",
            "Epoch 337/500, Loss: 0.7936, Accuracy: 68.08%\n",
            "Epoch 338/500, Loss: 0.8131, Accuracy: 67.25%\n",
            "Epoch 339/500, Loss: 0.8055, Accuracy: 67.61%\n",
            "Epoch 340/500, Loss: 0.7818, Accuracy: 69.07%\n",
            "Epoch 341/500, Loss: 0.7937, Accuracy: 67.91%\n",
            "Epoch 342/500, Loss: 0.7800, Accuracy: 68.47%\n",
            "Epoch 343/500, Loss: 0.8030, Accuracy: 67.85%\n",
            "Epoch 344/500, Loss: 0.8079, Accuracy: 68.12%\n",
            "Epoch 345/500, Loss: 0.8041, Accuracy: 68.00%\n",
            "Epoch 346/500, Loss: 0.7852, Accuracy: 68.87%\n",
            "Epoch 347/500, Loss: 0.7823, Accuracy: 69.00%\n",
            "Epoch 348/500, Loss: 0.8028, Accuracy: 68.32%\n",
            "Epoch 349/500, Loss: 0.7883, Accuracy: 68.85%\n",
            "Epoch 350/500, Loss: 0.7992, Accuracy: 67.55%\n",
            "Epoch 351/500, Loss: 0.8043, Accuracy: 67.72%\n",
            "Epoch 352/500, Loss: 0.8050, Accuracy: 67.89%\n",
            "Epoch 353/500, Loss: 0.7978, Accuracy: 67.82%\n",
            "Epoch 354/500, Loss: 0.8011, Accuracy: 68.21%\n",
            "Epoch 355/500, Loss: 0.8028, Accuracy: 67.50%\n",
            "Epoch 356/500, Loss: 0.7889, Accuracy: 68.30%\n",
            "Epoch 357/500, Loss: 0.7836, Accuracy: 69.05%\n",
            "Epoch 358/500, Loss: 0.8038, Accuracy: 67.48%\n",
            "Epoch 359/500, Loss: 0.7850, Accuracy: 68.68%\n",
            "Epoch 360/500, Loss: 0.7721, Accuracy: 69.56%\n",
            "Epoch 361/500, Loss: 0.7928, Accuracy: 67.95%\n",
            "Epoch 362/500, Loss: 0.7873, Accuracy: 68.36%\n",
            "Epoch 363/500, Loss: 0.7845, Accuracy: 68.17%\n",
            "Epoch 364/500, Loss: 0.7919, Accuracy: 68.42%\n",
            "Epoch 365/500, Loss: 0.7973, Accuracy: 67.82%\n",
            "Epoch 366/500, Loss: 0.7988, Accuracy: 67.65%\n",
            "Epoch 367/500, Loss: 0.7903, Accuracy: 68.17%\n",
            "Epoch 368/500, Loss: 0.7787, Accuracy: 69.00%\n",
            "Epoch 369/500, Loss: 0.7915, Accuracy: 68.10%\n",
            "Epoch 370/500, Loss: 0.7970, Accuracy: 68.00%\n",
            "Epoch 371/500, Loss: 0.7889, Accuracy: 68.10%\n",
            "Epoch 372/500, Loss: 0.7872, Accuracy: 68.34%\n",
            "Epoch 373/500, Loss: 0.7712, Accuracy: 69.26%\n",
            "Epoch 374/500, Loss: 0.7864, Accuracy: 68.19%\n",
            "Epoch 375/500, Loss: 0.7817, Accuracy: 69.67%\n",
            "Epoch 376/500, Loss: 0.8114, Accuracy: 67.91%\n",
            "Epoch 377/500, Loss: 0.7728, Accuracy: 69.05%\n",
            "Epoch 378/500, Loss: 0.7835, Accuracy: 68.45%\n",
            "Epoch 379/500, Loss: 0.8087, Accuracy: 67.63%\n",
            "Epoch 380/500, Loss: 0.7847, Accuracy: 68.12%\n",
            "Epoch 381/500, Loss: 0.7770, Accuracy: 68.42%\n",
            "Epoch 382/500, Loss: 0.7915, Accuracy: 68.75%\n",
            "Epoch 383/500, Loss: 0.7926, Accuracy: 67.70%\n",
            "Epoch 384/500, Loss: 0.7912, Accuracy: 68.57%\n",
            "Epoch 385/500, Loss: 0.7786, Accuracy: 67.85%\n",
            "Epoch 386/500, Loss: 0.7911, Accuracy: 68.49%\n",
            "Epoch 387/500, Loss: 0.7808, Accuracy: 68.19%\n",
            "Epoch 388/500, Loss: 0.7874, Accuracy: 68.30%\n",
            "Epoch 389/500, Loss: 0.7742, Accuracy: 68.49%\n",
            "Epoch 390/500, Loss: 0.7935, Accuracy: 68.08%\n",
            "Epoch 391/500, Loss: 0.7845, Accuracy: 68.23%\n",
            "Epoch 392/500, Loss: 0.7795, Accuracy: 69.17%\n",
            "Epoch 393/500, Loss: 0.7683, Accuracy: 69.69%\n",
            "Epoch 394/500, Loss: 0.7956, Accuracy: 68.34%\n",
            "Epoch 395/500, Loss: 0.7782, Accuracy: 69.15%\n",
            "Epoch 396/500, Loss: 0.7853, Accuracy: 68.17%\n",
            "Epoch 397/500, Loss: 0.7955, Accuracy: 68.17%\n",
            "Epoch 398/500, Loss: 0.7639, Accuracy: 68.45%\n",
            "Epoch 399/500, Loss: 0.7827, Accuracy: 69.15%\n",
            "Epoch 400/500, Loss: 0.7782, Accuracy: 69.07%\n",
            "Epoch 401/500, Loss: 0.7787, Accuracy: 68.98%\n",
            "Epoch 402/500, Loss: 0.7726, Accuracy: 69.32%\n",
            "Epoch 403/500, Loss: 0.7917, Accuracy: 68.10%\n",
            "Epoch 404/500, Loss: 0.7911, Accuracy: 68.32%\n",
            "Epoch 405/500, Loss: 0.7760, Accuracy: 68.87%\n",
            "Epoch 406/500, Loss: 0.7758, Accuracy: 68.75%\n",
            "Epoch 407/500, Loss: 0.7886, Accuracy: 68.30%\n",
            "Epoch 408/500, Loss: 0.7782, Accuracy: 69.00%\n",
            "Epoch 409/500, Loss: 0.7703, Accuracy: 69.41%\n",
            "Epoch 410/500, Loss: 0.7694, Accuracy: 70.03%\n",
            "Epoch 411/500, Loss: 0.7725, Accuracy: 68.96%\n",
            "Epoch 412/500, Loss: 0.7853, Accuracy: 67.89%\n",
            "Epoch 413/500, Loss: 0.7811, Accuracy: 67.93%\n",
            "Epoch 414/500, Loss: 0.7876, Accuracy: 68.06%\n",
            "Epoch 415/500, Loss: 0.7813, Accuracy: 68.83%\n",
            "Epoch 416/500, Loss: 0.7777, Accuracy: 68.77%\n",
            "Epoch 417/500, Loss: 0.7658, Accuracy: 69.97%\n",
            "Epoch 418/500, Loss: 0.7908, Accuracy: 68.72%\n",
            "Epoch 419/500, Loss: 0.7756, Accuracy: 68.47%\n",
            "Epoch 420/500, Loss: 0.7751, Accuracy: 68.96%\n",
            "Epoch 421/500, Loss: 0.7760, Accuracy: 69.39%\n",
            "Epoch 422/500, Loss: 0.7788, Accuracy: 69.07%\n",
            "Epoch 423/500, Loss: 0.7872, Accuracy: 67.93%\n",
            "Epoch 424/500, Loss: 0.7761, Accuracy: 68.85%\n",
            "Epoch 425/500, Loss: 0.7774, Accuracy: 68.32%\n",
            "Epoch 426/500, Loss: 0.7797, Accuracy: 69.09%\n",
            "Epoch 427/500, Loss: 0.7677, Accuracy: 68.34%\n",
            "Epoch 428/500, Loss: 0.7927, Accuracy: 69.07%\n",
            "Epoch 429/500, Loss: 0.7854, Accuracy: 67.76%\n",
            "Epoch 430/500, Loss: 0.7741, Accuracy: 68.30%\n",
            "Epoch 431/500, Loss: 0.7844, Accuracy: 68.45%\n",
            "Epoch 432/500, Loss: 0.7608, Accuracy: 70.03%\n",
            "Epoch 433/500, Loss: 0.7657, Accuracy: 69.22%\n",
            "Epoch 434/500, Loss: 0.7912, Accuracy: 68.90%\n",
            "Epoch 435/500, Loss: 0.7664, Accuracy: 68.49%\n",
            "Epoch 436/500, Loss: 0.7746, Accuracy: 69.22%\n",
            "Epoch 437/500, Loss: 0.7691, Accuracy: 68.42%\n",
            "Epoch 438/500, Loss: 0.7655, Accuracy: 69.13%\n",
            "Epoch 439/500, Loss: 0.7745, Accuracy: 69.11%\n",
            "Epoch 440/500, Loss: 0.7759, Accuracy: 68.75%\n",
            "Epoch 441/500, Loss: 0.7777, Accuracy: 69.30%\n",
            "Epoch 442/500, Loss: 0.7676, Accuracy: 69.17%\n",
            "Epoch 443/500, Loss: 0.7728, Accuracy: 69.32%\n",
            "Epoch 444/500, Loss: 0.7812, Accuracy: 68.66%\n",
            "Epoch 445/500, Loss: 0.7653, Accuracy: 69.37%\n",
            "Epoch 446/500, Loss: 0.7791, Accuracy: 69.02%\n",
            "Epoch 447/500, Loss: 0.7576, Accuracy: 69.52%\n",
            "Epoch 448/500, Loss: 0.7847, Accuracy: 68.66%\n",
            "Epoch 449/500, Loss: 0.7783, Accuracy: 69.52%\n",
            "Epoch 450/500, Loss: 0.7692, Accuracy: 69.77%\n",
            "Epoch 451/500, Loss: 0.7774, Accuracy: 68.21%\n",
            "Epoch 452/500, Loss: 0.7779, Accuracy: 69.26%\n",
            "Epoch 453/500, Loss: 0.7690, Accuracy: 69.50%\n",
            "Epoch 454/500, Loss: 0.7792, Accuracy: 68.40%\n",
            "Epoch 455/500, Loss: 0.7748, Accuracy: 68.81%\n",
            "Epoch 456/500, Loss: 0.7790, Accuracy: 68.77%\n",
            "Epoch 457/500, Loss: 0.7629, Accuracy: 70.59%\n",
            "Epoch 458/500, Loss: 0.7771, Accuracy: 68.77%\n",
            "Epoch 459/500, Loss: 0.7681, Accuracy: 68.60%\n",
            "Epoch 460/500, Loss: 0.7753, Accuracy: 69.67%\n",
            "Epoch 461/500, Loss: 0.7754, Accuracy: 69.75%\n",
            "Epoch 462/500, Loss: 0.7731, Accuracy: 68.32%\n",
            "Epoch 463/500, Loss: 0.7573, Accuracy: 69.65%\n",
            "Epoch 464/500, Loss: 0.7739, Accuracy: 68.32%\n",
            "Epoch 465/500, Loss: 0.7724, Accuracy: 69.13%\n",
            "Epoch 466/500, Loss: 0.7500, Accuracy: 70.65%\n",
            "Epoch 467/500, Loss: 0.7704, Accuracy: 69.35%\n",
            "Epoch 468/500, Loss: 0.7792, Accuracy: 69.52%\n",
            "Epoch 469/500, Loss: 0.7546, Accuracy: 69.50%\n",
            "Epoch 470/500, Loss: 0.7792, Accuracy: 68.49%\n",
            "Epoch 471/500, Loss: 0.7613, Accuracy: 69.92%\n",
            "Epoch 472/500, Loss: 0.7724, Accuracy: 69.32%\n",
            "Epoch 473/500, Loss: 0.7598, Accuracy: 69.82%\n",
            "Epoch 474/500, Loss: 0.7595, Accuracy: 69.77%\n",
            "Epoch 475/500, Loss: 0.7676, Accuracy: 69.47%\n",
            "Epoch 476/500, Loss: 0.7635, Accuracy: 68.98%\n",
            "Epoch 477/500, Loss: 0.7657, Accuracy: 70.08%\n",
            "Epoch 478/500, Loss: 0.7671, Accuracy: 69.13%\n",
            "Epoch 479/500, Loss: 0.7644, Accuracy: 69.54%\n",
            "Epoch 480/500, Loss: 0.7561, Accuracy: 70.42%\n",
            "Epoch 481/500, Loss: 0.7685, Accuracy: 69.13%\n",
            "Epoch 482/500, Loss: 0.7840, Accuracy: 68.00%\n",
            "Epoch 483/500, Loss: 0.7661, Accuracy: 69.39%\n",
            "Epoch 484/500, Loss: 0.7763, Accuracy: 68.55%\n",
            "Epoch 485/500, Loss: 0.7787, Accuracy: 69.35%\n",
            "Epoch 486/500, Loss: 0.7857, Accuracy: 68.64%\n",
            "Epoch 487/500, Loss: 0.7538, Accuracy: 69.45%\n",
            "Epoch 488/500, Loss: 0.7627, Accuracy: 69.50%\n",
            "Epoch 489/500, Loss: 0.7667, Accuracy: 69.32%\n",
            "Epoch 490/500, Loss: 0.7683, Accuracy: 69.32%\n",
            "Epoch 491/500, Loss: 0.7647, Accuracy: 68.85%\n",
            "Epoch 492/500, Loss: 0.7587, Accuracy: 69.11%\n",
            "Epoch 493/500, Loss: 0.7723, Accuracy: 69.58%\n",
            "Epoch 494/500, Loss: 0.7821, Accuracy: 68.79%\n",
            "Epoch 495/500, Loss: 0.7455, Accuracy: 70.03%\n",
            "Epoch 496/500, Loss: 0.7615, Accuracy: 69.69%\n",
            "Epoch 497/500, Loss: 0.7576, Accuracy: 70.40%\n",
            "Epoch 498/500, Loss: 0.7585, Accuracy: 69.99%\n",
            "Epoch 499/500, Loss: 0.7776, Accuracy: 68.90%\n",
            "Epoch 500/500, Loss: 0.7816, Accuracy: 68.15%\n",
            "Average Loss: 0.7815786237757562\n",
            "Highest Train Accuracy: 0.7065380493033226\n"
          ]
        }
      ]
    },
    {
      "cell_type": "markdown",
      "source": [
        "##Evaluating Model"
      ],
      "metadata": {
        "id": "-3fKnNHxDKwn"
      }
    },
    {
      "cell_type": "code",
      "source": [
        "classes_list = ['Left', 'Right', 'Foot', 'Tongue']\n",
        "eval_model = EvalModel(trained_eegnet_model)\n",
        "test_accuracy = eval_model.test_model(test_dataset)\n",
        "eval_model.plot_confusion_matrix(test_dataset, classes_list)\n"
      ],
      "metadata": {
        "id": "aHsstvZSDLb1"
      },
      "execution_count": null,
      "outputs": []
    },
    {
      "cell_type": "markdown",
      "source": [
        "#MSTANN Model"
      ],
      "metadata": {
        "id": "x8T_bAKxEu3T"
      }
    },
    {
      "cell_type": "code",
      "source": [
        "class MSM(nn.Module): # Multi-Scale Module\n",
        "    def __init__(self, chans=22, time_points=1001, f1=36, f2=54, f3=108, f4=216):\n",
        "        super(MSM, self).__init__()\n",
        "        self.conv1 = nn.Conv1d(chans, f1, kernel_size=3, padding='same')\n",
        "        self.conv2 = nn.Conv1d(chans, f1, kernel_size=11, padding='same')\n",
        "        self.conv3 = nn.Conv1d(chans, f1, kernel_size=19, padding='same')\n",
        "        self.conv4 = nn.Conv1d(f3, f2, kernel_size=1, padding='same')\n",
        "        self.conv5 = nn.Conv1d(f4, f3, kernel_size=1, padding='same')\n",
        "        self.mp1 = nn.MaxPool1d(kernel_size=7, stride=2, padding=3)\n",
        "        self.mp2 = nn.MaxPool1d(kernel_size=19, stride=2, padding=9)\n",
        "        self.mp3 = nn.MaxPool1d(kernel_size=31, stride=2, padding=15)\n",
        "\n",
        "    def forward(self, x):\n",
        "        # Parallel Convs\n",
        "        conv1_out = self.conv1(x)\n",
        "        temporal_features1 = conv1_out\n",
        "        conv2_out = self.conv2(x)\n",
        "        temporal_features2 = conv2_out\n",
        "        conv3_out = self.conv3(x)\n",
        "        temporal_features3 = conv3_out\n",
        "        convs_cat = torch.cat([conv1_out, conv2_out, conv3_out], dim=1)\n",
        "        convs_cat_t = torch.cat([conv1_out, conv2_out, conv3_out], dim=1).permute(0,2,1)\n",
        "        temporal_features_cat1 = convs_cat_t\n",
        "        # Max Poolings\n",
        "        mp1 = self.mp1(convs_cat_t).permute(0,2,1)\n",
        "        mp2 = self.mp2(convs_cat_t).permute(0,2,1)\n",
        "        mp3 = self.mp3(convs_cat_t).permute(0,2,1)\n",
        "        # Second Concat\n",
        "        conv4_out = self.conv4(convs_cat)\n",
        "        temporal_features4 = conv4_out\n",
        "        convs_cat2 = torch.cat([mp1, mp2, mp3, conv4_out], dim=1)\n",
        "        temporal_features_cat2 = convs_cat2\n",
        "        out = self.conv5(convs_cat2)\n",
        "        temporal_features_total = out\n",
        "        temporal_features = [temporal_features1, temporal_features2, temporal_features3,\n",
        "                            temporal_features4, temporal_features_cat1, temporal_features_cat2,\n",
        "                            temporal_features_total]\n",
        "        return out, temporal_features\n",
        "class ResidualModule(nn.Module):\n",
        "    def __init__(self, f1=108, f2=54):\n",
        "        super(ResidualModule, self).__init__()\n",
        "\n",
        "        self.block1 = nn.Sequential(\n",
        "            nn.Conv1d(f1, f2, kernel_size=1, padding=0), # Conv6\n",
        "            nn.BatchNorm1d(f2),\n",
        "            nn.ReLU()\n",
        "        )\n",
        "        self.block2 = nn.Sequential(\n",
        "            nn.Conv1d(f2, f1, kernel_size=3, padding=1), # Conv7\n",
        "            nn.BatchNorm1d(f1),\n",
        "            nn.ReLU()\n",
        "        )\n",
        "        self.block3 = nn.Sequential(\n",
        "            nn.Conv1d(f1, f2, kernel_size=1, padding=0), # Conv8\n",
        "            nn.BatchNorm1d(f2),\n",
        "            nn.ReLU()\n",
        "        )\n",
        "        self.block4 = nn.Sequential(\n",
        "            nn.Conv1d(f2, f1, kernel_size=3, padding=1), # Conv9\n",
        "            nn.BatchNorm1d(f1),\n",
        "        )\n",
        "        self.relu = nn.ReLU()\n",
        "\n",
        "    def forward(self, x):\n",
        "        residual = x\n",
        "        # Sequential Convs\n",
        "        x = self.block1(x)  # Conv6\n",
        "        x = self.block2(x)  # Conv7\n",
        "        x = self.block3(x)  # Conv8\n",
        "        x = self.block4(x)  # Conv9\n",
        "\n",
        "        # Residual Connection\n",
        "        x += residual\n",
        "        x = self.relu(x)\n",
        "        return x\n",
        "\n",
        "class CTAM(nn.Module):\n",
        "    def __init__(self, f1=216, linear_size=108, time_points=1001):\n",
        "        super(CTAM, self).__init__()\n",
        "        # Channel Attention Module(CAM)\n",
        "        self.cam_maxpool = nn.Sequential(\n",
        "            nn.MaxPool1d(kernel_size=1),\n",
        "            nn.Flatten(),\n",
        "            nn.Linear(linear_size*time_points, linear_size),\n",
        "            nn.ReLU(),\n",
        "            nn.Linear(linear_size, linear_size),\n",
        "        )\n",
        "        self.cam_avgpool = nn.Sequential(\n",
        "            nn.AvgPool1d(kernel_size=1),\n",
        "            nn.Flatten(),\n",
        "            nn.Linear(linear_size*time_points, linear_size),\n",
        "            nn.ReLU(),\n",
        "            nn.Linear(linear_size, linear_size),\n",
        "        )\n",
        "\n",
        "        # Temporal Attention Module(TAM)\n",
        "        self.tam_maxpool = nn.MaxPool1d(kernel_size=1)\n",
        "        self.tam_avgpool = nn.AvgPool1d(kernel_size=1)\n",
        "        self.tam_conv = nn.Conv1d(f1, 1, kernel_size=7, padding=3)\n",
        "        self.sigmoid = nn.Sigmoid()\n",
        "\n",
        "    def forward(self, x):\n",
        "        # CAM operations\n",
        "        cam_maxpool_out = self.cam_maxpool(x)\n",
        "        cam_avgpool_out = self.cam_avgpool(x)\n",
        "        cam_pool_out = self.sigmoid(cam_maxpool_out + cam_avgpool_out).unsqueeze(2)\n",
        "        cam_out = x * cam_pool_out\n",
        "        # TAM operations\n",
        "        tam_maxpool_out = self.tam_maxpool(cam_out)\n",
        "        tam_avgpool_out = self.tam_avgpool(cam_out)\n",
        "        tam_cat = torch.cat((tam_avgpool_out, tam_maxpool_out), dim=1)\n",
        "        tam_conv_out = self.tam_conv(tam_cat)\n",
        "        tam_out = self.sigmoid(tam_conv_out)\n",
        "        tam_out_expanded = tam_out.expand(-1, 108, -1)\n",
        "        ctam_out = tam_out_expanded * cam_out\n",
        "        return ctam_out\n",
        "\n",
        "\n",
        "class MSCTANNModel(nn.Module):\n",
        "    def __init__(self, chans=22, f1=36, f2=54, f3=108, f4=216,\n",
        "                 classes=4, time_points=1001, dropout_rate=0.4):\n",
        "        super(MSCTANNModel, self).__init__()\n",
        "        linear_size = f3*time_points\n",
        "        self.classes = classes\n",
        "        self.msm = MSM(chans=chans,time_points=time_points, f1=f1, f2=f2, f3=f3, f4=f4)\n",
        "        self.residual_module = ResidualModule(f1=f3, f2=f2)\n",
        "        self.ctam = CTAM(f1=f4, linear_size=f3, time_points=time_points)\n",
        "        self.flatten = nn.Flatten()\n",
        "        self.dropout = nn.Dropout(dropout_rate)\n",
        "        self.fc = nn.Linear(linear_size, classes)\n",
        "    def forward(self, x):\n",
        "        x = x.squeeze(1) # Reducing Input dim from 4 to 3\n",
        "        x, temporal_features = self.msm(x)\n",
        "        x = self.residual_module(x)\n",
        "        x = self.ctam(x)\n",
        "        x = self.flatten(x)\n",
        "        x = self.fc(x)\n",
        "        x = self.dropout(x)\n",
        "        return x, temporal_features\n",
        ""
      ],
      "metadata": {
        "id": "rwhu1U1sExPU"
      },
      "execution_count": 75,
      "outputs": []
    },
    {
      "cell_type": "markdown",
      "source": [
        "##Model Summery"
      ],
      "metadata": {
        "id": "7F1-smxGExft"
      }
    },
    {
      "cell_type": "code",
      "source": [
        "input_size = (1, 22, 1001)\n",
        "msctaan_model = MSCTANNModel().to(device)\n",
        "summary(msctaan_model, input_size)"
      ],
      "metadata": {
        "colab": {
          "base_uri": "https://localhost:8080/"
        },
        "id": "FJyHE1XtFm-p",
        "outputId": "1c8bb0ae-30d5-4ed9-c41a-59f730584726"
      },
      "execution_count": 76,
      "outputs": [
        {
          "output_type": "stream",
          "name": "stdout",
          "text": [
            "==========================================================================================\n",
            "Layer (type:depth-idx)                   Output Shape              Param #\n",
            "==========================================================================================\n",
            "├─MSM: 1-1                               [-1, 108, 1001]           --\n",
            "|    └─Conv1d: 2-1                       [-1, 36, 1001]            2,412\n",
            "|    └─Conv1d: 2-2                       [-1, 36, 1001]            8,748\n",
            "|    └─Conv1d: 2-3                       [-1, 36, 1001]            15,084\n",
            "|    └─MaxPool1d: 2-4                    [-1, 1001, 54]            --\n",
            "|    └─MaxPool1d: 2-5                    [-1, 1001, 54]            --\n",
            "|    └─MaxPool1d: 2-6                    [-1, 1001, 54]            --\n",
            "|    └─Conv1d: 2-7                       [-1, 54, 1001]            5,886\n",
            "|    └─Conv1d: 2-8                       [-1, 108, 1001]           23,436\n",
            "├─ResidualModule: 1-2                    [-1, 108, 1001]           --\n",
            "|    └─Sequential: 2-9                   [-1, 54, 1001]            --\n",
            "|    |    └─Conv1d: 3-1                  [-1, 54, 1001]            5,886\n",
            "|    |    └─BatchNorm1d: 3-2             [-1, 54, 1001]            108\n",
            "|    |    └─ReLU: 3-3                    [-1, 54, 1001]            --\n",
            "|    └─Sequential: 2-10                  [-1, 108, 1001]           --\n",
            "|    |    └─Conv1d: 3-4                  [-1, 108, 1001]           17,604\n",
            "|    |    └─BatchNorm1d: 3-5             [-1, 108, 1001]           216\n",
            "|    |    └─ReLU: 3-6                    [-1, 108, 1001]           --\n",
            "|    └─Sequential: 2-11                  [-1, 54, 1001]            --\n",
            "|    |    └─Conv1d: 3-7                  [-1, 54, 1001]            5,886\n",
            "|    |    └─BatchNorm1d: 3-8             [-1, 54, 1001]            108\n",
            "|    |    └─ReLU: 3-9                    [-1, 54, 1001]            --\n",
            "|    └─Sequential: 2-12                  [-1, 108, 1001]           --\n",
            "|    |    └─Conv1d: 3-10                 [-1, 108, 1001]           17,604\n",
            "|    |    └─BatchNorm1d: 3-11            [-1, 108, 1001]           216\n",
            "|    └─ReLU: 2-13                        [-1, 108, 1001]           --\n",
            "├─CTAM: 1-3                              [-1, 108, 1001]           --\n",
            "|    └─Sequential: 2-14                  [-1, 108]                 --\n",
            "|    |    └─MaxPool1d: 3-12              [-1, 108, 1001]           --\n",
            "|    |    └─Flatten: 3-13                [-1, 108108]              --\n",
            "|    |    └─Linear: 3-14                 [-1, 108]                 11,675,772\n",
            "|    |    └─ReLU: 3-15                   [-1, 108]                 --\n",
            "|    |    └─Linear: 3-16                 [-1, 108]                 11,772\n",
            "|    └─Sequential: 2-15                  [-1, 108]                 --\n",
            "|    |    └─AvgPool1d: 3-17              [-1, 108, 1001]           --\n",
            "|    |    └─Flatten: 3-18                [-1, 108108]              --\n",
            "|    |    └─Linear: 3-19                 [-1, 108]                 11,675,772\n",
            "|    |    └─ReLU: 3-20                   [-1, 108]                 --\n",
            "|    |    └─Linear: 3-21                 [-1, 108]                 11,772\n",
            "|    └─Sigmoid: 2-16                     [-1, 108]                 --\n",
            "|    └─MaxPool1d: 2-17                   [-1, 108, 1001]           --\n",
            "|    └─AvgPool1d: 2-18                   [-1, 108, 1001]           --\n",
            "|    └─Conv1d: 2-19                      [-1, 1, 1001]             1,513\n",
            "|    └─Sigmoid: 2-20                     [-1, 1, 1001]             --\n",
            "├─Flatten: 1-4                           [-1, 108108]              --\n",
            "├─Linear: 1-5                            [-1, 4]                   432,436\n",
            "├─Dropout: 1-6                           [-1, 4]                   --\n",
            "==========================================================================================\n",
            "Total params: 23,912,231\n",
            "Trainable params: 23,912,231\n",
            "Non-trainable params: 0\n",
            "Total mult-adds (M): 174.27\n",
            "==========================================================================================\n",
            "Input size (MB): 0.08\n",
            "Forward/backward pass size (MB): 7.02\n",
            "Params size (MB): 91.22\n",
            "Estimated Total Size (MB): 98.32\n",
            "==========================================================================================\n"
          ]
        },
        {
          "output_type": "execute_result",
          "data": {
            "text/plain": [
              "==========================================================================================\n",
              "Layer (type:depth-idx)                   Output Shape              Param #\n",
              "==========================================================================================\n",
              "├─MSM: 1-1                               [-1, 108, 1001]           --\n",
              "|    └─Conv1d: 2-1                       [-1, 36, 1001]            2,412\n",
              "|    └─Conv1d: 2-2                       [-1, 36, 1001]            8,748\n",
              "|    └─Conv1d: 2-3                       [-1, 36, 1001]            15,084\n",
              "|    └─MaxPool1d: 2-4                    [-1, 1001, 54]            --\n",
              "|    └─MaxPool1d: 2-5                    [-1, 1001, 54]            --\n",
              "|    └─MaxPool1d: 2-6                    [-1, 1001, 54]            --\n",
              "|    └─Conv1d: 2-7                       [-1, 54, 1001]            5,886\n",
              "|    └─Conv1d: 2-8                       [-1, 108, 1001]           23,436\n",
              "├─ResidualModule: 1-2                    [-1, 108, 1001]           --\n",
              "|    └─Sequential: 2-9                   [-1, 54, 1001]            --\n",
              "|    |    └─Conv1d: 3-1                  [-1, 54, 1001]            5,886\n",
              "|    |    └─BatchNorm1d: 3-2             [-1, 54, 1001]            108\n",
              "|    |    └─ReLU: 3-3                    [-1, 54, 1001]            --\n",
              "|    └─Sequential: 2-10                  [-1, 108, 1001]           --\n",
              "|    |    └─Conv1d: 3-4                  [-1, 108, 1001]           17,604\n",
              "|    |    └─BatchNorm1d: 3-5             [-1, 108, 1001]           216\n",
              "|    |    └─ReLU: 3-6                    [-1, 108, 1001]           --\n",
              "|    └─Sequential: 2-11                  [-1, 54, 1001]            --\n",
              "|    |    └─Conv1d: 3-7                  [-1, 54, 1001]            5,886\n",
              "|    |    └─BatchNorm1d: 3-8             [-1, 54, 1001]            108\n",
              "|    |    └─ReLU: 3-9                    [-1, 54, 1001]            --\n",
              "|    └─Sequential: 2-12                  [-1, 108, 1001]           --\n",
              "|    |    └─Conv1d: 3-10                 [-1, 108, 1001]           17,604\n",
              "|    |    └─BatchNorm1d: 3-11            [-1, 108, 1001]           216\n",
              "|    └─ReLU: 2-13                        [-1, 108, 1001]           --\n",
              "├─CTAM: 1-3                              [-1, 108, 1001]           --\n",
              "|    └─Sequential: 2-14                  [-1, 108]                 --\n",
              "|    |    └─MaxPool1d: 3-12              [-1, 108, 1001]           --\n",
              "|    |    └─Flatten: 3-13                [-1, 108108]              --\n",
              "|    |    └─Linear: 3-14                 [-1, 108]                 11,675,772\n",
              "|    |    └─ReLU: 3-15                   [-1, 108]                 --\n",
              "|    |    └─Linear: 3-16                 [-1, 108]                 11,772\n",
              "|    └─Sequential: 2-15                  [-1, 108]                 --\n",
              "|    |    └─AvgPool1d: 3-17              [-1, 108, 1001]           --\n",
              "|    |    └─Flatten: 3-18                [-1, 108108]              --\n",
              "|    |    └─Linear: 3-19                 [-1, 108]                 11,675,772\n",
              "|    |    └─ReLU: 3-20                   [-1, 108]                 --\n",
              "|    |    └─Linear: 3-21                 [-1, 108]                 11,772\n",
              "|    └─Sigmoid: 2-16                     [-1, 108]                 --\n",
              "|    └─MaxPool1d: 2-17                   [-1, 108, 1001]           --\n",
              "|    └─AvgPool1d: 2-18                   [-1, 108, 1001]           --\n",
              "|    └─Conv1d: 2-19                      [-1, 1, 1001]             1,513\n",
              "|    └─Sigmoid: 2-20                     [-1, 1, 1001]             --\n",
              "├─Flatten: 1-4                           [-1, 108108]              --\n",
              "├─Linear: 1-5                            [-1, 4]                   432,436\n",
              "├─Dropout: 1-6                           [-1, 4]                   --\n",
              "==========================================================================================\n",
              "Total params: 23,912,231\n",
              "Trainable params: 23,912,231\n",
              "Non-trainable params: 0\n",
              "Total mult-adds (M): 174.27\n",
              "==========================================================================================\n",
              "Input size (MB): 0.08\n",
              "Forward/backward pass size (MB): 7.02\n",
              "Params size (MB): 91.22\n",
              "Estimated Total Size (MB): 98.32\n",
              "=========================================================================================="
            ]
          },
          "metadata": {},
          "execution_count": 76
        }
      ]
    },
    {
      "cell_type": "markdown",
      "source": [
        "##Training Model"
      ],
      "metadata": {
        "id": "Q0wNQ0O8FnZ6"
      }
    },
    {
      "cell_type": "code",
      "source": [
        "msctaan_model = MSCTANNModel().to(device)\n",
        "\n",
        "# Training Hyperparameters\n",
        "EPOCHS = 500\n",
        "BATCH_SIZE = 64\n",
        "LEARNING_RATE = 0.001\n",
        "trainer = TrainModel()\n",
        "trained_msctaan_model = trainer.train_model(msctaan_model, train_dataset, learning_rate=LEARNING_RATE,\n",
        "                                   batch_size=BATCH_SIZE, epochs=EPOCHS)\n",
        "torch.save(trained_msctaan_model.state_dict(), 'msctaan_model.pth')"
      ],
      "metadata": {
        "colab": {
          "base_uri": "https://localhost:8080/"
        },
        "id": "TJIFwYu5FsSc",
        "outputId": "69958709-93c9-4e3b-cc5c-a588a9f8e8ff"
      },
      "execution_count": 77,
      "outputs": [
        {
          "output_type": "stream",
          "name": "stdout",
          "text": [
            "Epoch 1/500, Loss: 1.5135, Accuracy: 24.42%\n",
            "Epoch 2/500, Loss: 1.3742, Accuracy: 30.35%\n",
            "Epoch 3/500, Loss: 1.3459, Accuracy: 33.61%\n",
            "Epoch 4/500, Loss: 1.3176, Accuracy: 35.63%\n",
            "Epoch 5/500, Loss: 1.2562, Accuracy: 40.64%\n",
            "Epoch 6/500, Loss: 1.1912, Accuracy: 45.59%\n",
            "Epoch 7/500, Loss: 1.1164, Accuracy: 49.62%\n",
            "Epoch 8/500, Loss: 1.0148, Accuracy: 54.30%\n",
            "Epoch 9/500, Loss: 0.9019, Accuracy: 58.67%\n",
            "Epoch 10/500, Loss: 0.8114, Accuracy: 62.66%\n",
            "Epoch 11/500, Loss: 0.6915, Accuracy: 68.47%\n",
            "Epoch 12/500, Loss: 0.6128, Accuracy: 71.00%\n",
            "Epoch 13/500, Loss: 0.5345, Accuracy: 74.49%\n",
            "Epoch 14/500, Loss: 0.4938, Accuracy: 74.68%\n",
            "Epoch 15/500, Loss: 0.4261, Accuracy: 77.68%\n",
            "Epoch 16/500, Loss: 0.4424, Accuracy: 77.49%\n",
            "Epoch 17/500, Loss: 0.3878, Accuracy: 78.78%\n",
            "Epoch 18/500, Loss: 0.3784, Accuracy: 78.59%\n",
            "Epoch 19/500, Loss: 0.3693, Accuracy: 79.31%\n",
            "Epoch 20/500, Loss: 0.3656, Accuracy: 80.04%\n",
            "Epoch 21/500, Loss: 0.3631, Accuracy: 78.84%\n",
            "Epoch 22/500, Loss: 0.3572, Accuracy: 79.14%\n",
            "Epoch 23/500, Loss: 0.3368, Accuracy: 79.94%\n",
            "Epoch 24/500, Loss: 0.3462, Accuracy: 79.91%\n",
            "Epoch 25/500, Loss: 0.3356, Accuracy: 79.89%\n",
            "Epoch 26/500, Loss: 0.3431, Accuracy: 80.15%\n",
            "Epoch 27/500, Loss: 0.3405, Accuracy: 80.49%\n",
            "Epoch 28/500, Loss: 0.3249, Accuracy: 80.39%\n",
            "Epoch 29/500, Loss: 0.3097, Accuracy: 81.24%\n",
            "Epoch 30/500, Loss: 0.3278, Accuracy: 79.70%\n",
            "Epoch 31/500, Loss: 0.3211, Accuracy: 80.49%\n",
            "Epoch 32/500, Loss: 0.3474, Accuracy: 78.63%\n",
            "Epoch 33/500, Loss: 0.3346, Accuracy: 80.26%\n",
            "Epoch 34/500, Loss: 0.3155, Accuracy: 81.26%\n",
            "Epoch 35/500, Loss: 0.3313, Accuracy: 80.75%\n",
            "Epoch 36/500, Loss: 0.3456, Accuracy: 79.31%\n",
            "Epoch 37/500, Loss: 0.3100, Accuracy: 81.09%\n",
            "Epoch 38/500, Loss: 0.3449, Accuracy: 79.59%\n",
            "Epoch 39/500, Loss: 0.3315, Accuracy: 79.94%\n",
            "Epoch 40/500, Loss: 0.3253, Accuracy: 80.34%\n",
            "Epoch 41/500, Loss: 0.3305, Accuracy: 79.98%\n",
            "Epoch 42/500, Loss: 0.3307, Accuracy: 79.59%\n",
            "Epoch 43/500, Loss: 0.3356, Accuracy: 79.51%\n",
            "Epoch 44/500, Loss: 0.3177, Accuracy: 81.16%\n",
            "Epoch 45/500, Loss: 0.3063, Accuracy: 82.02%\n",
            "Epoch 46/500, Loss: 0.3158, Accuracy: 80.60%\n",
            "Epoch 47/500, Loss: 0.3242, Accuracy: 80.17%\n",
            "Epoch 48/500, Loss: 0.3005, Accuracy: 80.77%\n",
            "Epoch 49/500, Loss: 0.3144, Accuracy: 80.81%\n",
            "Epoch 50/500, Loss: 0.3500, Accuracy: 79.04%\n",
            "Epoch 51/500, Loss: 0.3037, Accuracy: 81.26%\n",
            "Epoch 52/500, Loss: 0.3144, Accuracy: 80.99%\n",
            "Epoch 53/500, Loss: 0.3055, Accuracy: 81.74%\n",
            "Epoch 54/500, Loss: 0.3185, Accuracy: 80.60%\n",
            "Epoch 55/500, Loss: 0.3070, Accuracy: 81.24%\n",
            "Epoch 56/500, Loss: 0.3066, Accuracy: 81.29%\n",
            "Epoch 57/500, Loss: 0.2938, Accuracy: 81.37%\n",
            "Epoch 58/500, Loss: 0.3088, Accuracy: 81.46%\n",
            "Epoch 59/500, Loss: 0.3299, Accuracy: 80.32%\n",
            "Epoch 60/500, Loss: 0.3372, Accuracy: 79.85%\n",
            "Epoch 61/500, Loss: 0.3231, Accuracy: 80.47%\n",
            "Epoch 62/500, Loss: 0.3161, Accuracy: 81.05%\n",
            "Epoch 63/500, Loss: 0.3119, Accuracy: 80.94%\n",
            "Epoch 64/500, Loss: 0.3312, Accuracy: 79.98%\n",
            "Epoch 65/500, Loss: 0.3183, Accuracy: 80.13%\n",
            "Epoch 66/500, Loss: 0.3096, Accuracy: 80.11%\n",
            "Epoch 67/500, Loss: 0.3129, Accuracy: 80.45%\n",
            "Epoch 68/500, Loss: 0.3061, Accuracy: 80.62%\n",
            "Epoch 69/500, Loss: 0.3010, Accuracy: 81.95%\n",
            "Epoch 70/500, Loss: 0.3056, Accuracy: 81.05%\n",
            "Epoch 71/500, Loss: 0.2957, Accuracy: 80.73%\n",
            "Epoch 72/500, Loss: 0.2982, Accuracy: 81.31%\n",
            "Epoch 73/500, Loss: 0.2924, Accuracy: 81.50%\n",
            "Epoch 74/500, Loss: 0.2913, Accuracy: 81.01%\n",
            "Epoch 75/500, Loss: 0.3142, Accuracy: 80.90%\n",
            "Epoch 76/500, Loss: 0.3086, Accuracy: 80.64%\n",
            "Epoch 77/500, Loss: 0.3118, Accuracy: 80.34%\n",
            "Epoch 78/500, Loss: 0.3352, Accuracy: 80.43%\n",
            "Epoch 79/500, Loss: 0.3259, Accuracy: 80.06%\n",
            "Epoch 80/500, Loss: 0.3169, Accuracy: 80.51%\n",
            "Epoch 81/500, Loss: 0.3188, Accuracy: 80.28%\n",
            "Epoch 82/500, Loss: 0.3304, Accuracy: 80.51%\n",
            "Epoch 83/500, Loss: 0.3092, Accuracy: 80.81%\n",
            "Epoch 84/500, Loss: 0.3147, Accuracy: 80.43%\n",
            "Epoch 85/500, Loss: 0.3260, Accuracy: 80.11%\n",
            "Epoch 86/500, Loss: 0.3260, Accuracy: 80.58%\n",
            "Epoch 87/500, Loss: 0.3129, Accuracy: 81.09%\n",
            "Epoch 88/500, Loss: 0.3303, Accuracy: 79.96%\n",
            "Epoch 89/500, Loss: 0.3342, Accuracy: 80.39%\n",
            "Epoch 90/500, Loss: 0.2984, Accuracy: 81.29%\n",
            "Epoch 91/500, Loss: 0.3189, Accuracy: 81.03%\n",
            "Epoch 92/500, Loss: 0.3300, Accuracy: 80.51%\n",
            "Epoch 93/500, Loss: 0.3124, Accuracy: 80.71%\n",
            "Epoch 94/500, Loss: 0.3227, Accuracy: 80.77%\n",
            "Epoch 95/500, Loss: 0.3059, Accuracy: 81.39%\n",
            "Epoch 96/500, Loss: 0.2941, Accuracy: 81.31%\n",
            "Epoch 97/500, Loss: 0.2964, Accuracy: 81.80%\n",
            "Epoch 98/500, Loss: 0.2881, Accuracy: 81.69%\n",
            "Epoch 99/500, Loss: 0.2891, Accuracy: 81.65%\n",
            "Epoch 100/500, Loss: 0.2936, Accuracy: 81.54%\n",
            "Epoch 101/500, Loss: 0.2951, Accuracy: 81.26%\n",
            "Epoch 102/500, Loss: 0.3001, Accuracy: 80.41%\n",
            "Epoch 103/500, Loss: 0.2813, Accuracy: 81.84%\n",
            "Epoch 104/500, Loss: 0.2906, Accuracy: 81.54%\n",
            "Epoch 105/500, Loss: 0.2887, Accuracy: 81.33%\n",
            "Epoch 106/500, Loss: 0.2847, Accuracy: 82.36%\n",
            "Epoch 107/500, Loss: 0.2795, Accuracy: 82.40%\n",
            "Epoch 108/500, Loss: 0.3348, Accuracy: 80.19%\n",
            "Epoch 109/500, Loss: 0.3230, Accuracy: 80.58%\n",
            "Epoch 110/500, Loss: 0.3411, Accuracy: 80.17%\n",
            "Epoch 111/500, Loss: 0.3287, Accuracy: 81.20%\n",
            "Epoch 112/500, Loss: 0.3227, Accuracy: 80.77%\n",
            "Epoch 113/500, Loss: 0.3030, Accuracy: 81.16%\n",
            "Epoch 114/500, Loss: 0.3013, Accuracy: 82.36%\n",
            "Epoch 115/500, Loss: 0.3144, Accuracy: 80.28%\n",
            "Epoch 116/500, Loss: 0.3225, Accuracy: 80.56%\n",
            "Epoch 117/500, Loss: 0.3098, Accuracy: 81.41%\n",
            "Epoch 118/500, Loss: 0.3057, Accuracy: 80.99%\n",
            "Epoch 119/500, Loss: 0.3038, Accuracy: 81.22%\n",
            "Epoch 120/500, Loss: 0.2861, Accuracy: 82.06%\n",
            "Epoch 121/500, Loss: 0.2896, Accuracy: 81.50%\n",
            "Epoch 122/500, Loss: 0.2957, Accuracy: 81.41%\n",
            "Epoch 123/500, Loss: 0.3292, Accuracy: 80.02%\n",
            "Epoch 124/500, Loss: 0.3072, Accuracy: 81.67%\n",
            "Epoch 125/500, Loss: 0.3099, Accuracy: 81.16%\n",
            "Epoch 126/500, Loss: 0.3109, Accuracy: 81.89%\n",
            "Epoch 127/500, Loss: 0.3179, Accuracy: 80.39%\n",
            "Epoch 128/500, Loss: 0.2943, Accuracy: 81.33%\n",
            "Epoch 129/500, Loss: 0.2997, Accuracy: 81.11%\n",
            "Epoch 130/500, Loss: 0.2874, Accuracy: 81.07%\n",
            "Epoch 131/500, Loss: 0.2916, Accuracy: 81.86%\n",
            "Epoch 132/500, Loss: 0.3262, Accuracy: 81.11%\n",
            "Epoch 133/500, Loss: 0.3114, Accuracy: 80.62%\n",
            "Epoch 134/500, Loss: 0.3164, Accuracy: 80.30%\n",
            "Epoch 135/500, Loss: 0.2953, Accuracy: 81.44%\n",
            "Epoch 136/500, Loss: 0.3097, Accuracy: 81.50%\n",
            "Epoch 137/500, Loss: 0.3082, Accuracy: 80.99%\n",
            "Epoch 138/500, Loss: 0.3050, Accuracy: 80.71%\n",
            "Epoch 139/500, Loss: 0.3001, Accuracy: 81.07%\n",
            "Epoch 140/500, Loss: 0.2993, Accuracy: 81.11%\n",
            "Epoch 141/500, Loss: 0.3085, Accuracy: 80.88%\n",
            "Epoch 142/500, Loss: 0.2924, Accuracy: 82.64%\n",
            "Epoch 143/500, Loss: 0.3090, Accuracy: 81.35%\n",
            "Epoch 144/500, Loss: 0.3195, Accuracy: 80.81%\n",
            "Epoch 145/500, Loss: 0.3077, Accuracy: 81.20%\n",
            "Epoch 146/500, Loss: 0.2841, Accuracy: 82.51%\n",
            "Epoch 147/500, Loss: 0.2844, Accuracy: 81.84%\n",
            "Epoch 148/500, Loss: 0.2996, Accuracy: 81.07%\n",
            "Epoch 149/500, Loss: 0.3092, Accuracy: 80.02%\n",
            "Epoch 150/500, Loss: 0.3030, Accuracy: 81.22%\n",
            "Epoch 151/500, Loss: 0.3101, Accuracy: 81.01%\n",
            "Epoch 152/500, Loss: 0.3239, Accuracy: 79.57%\n",
            "Epoch 153/500, Loss: 0.3058, Accuracy: 81.09%\n",
            "Epoch 154/500, Loss: 0.3037, Accuracy: 81.37%\n",
            "Epoch 155/500, Loss: 0.3021, Accuracy: 81.71%\n",
            "Epoch 156/500, Loss: 0.2842, Accuracy: 82.12%\n",
            "Epoch 157/500, Loss: 0.2886, Accuracy: 82.06%\n",
            "Epoch 158/500, Loss: 0.2948, Accuracy: 82.10%\n",
            "Epoch 159/500, Loss: 0.2959, Accuracy: 81.39%\n",
            "Epoch 160/500, Loss: 0.3040, Accuracy: 81.69%\n",
            "Epoch 161/500, Loss: 0.3100, Accuracy: 80.28%\n",
            "Epoch 162/500, Loss: 0.2911, Accuracy: 81.95%\n",
            "Epoch 163/500, Loss: 0.3326, Accuracy: 81.56%\n",
            "Epoch 164/500, Loss: 0.3655, Accuracy: 79.89%\n",
            "Epoch 165/500, Loss: 0.3077, Accuracy: 80.75%\n",
            "Epoch 166/500, Loss: 0.3038, Accuracy: 81.52%\n",
            "Epoch 167/500, Loss: 0.2977, Accuracy: 81.50%\n",
            "Epoch 168/500, Loss: 0.3092, Accuracy: 81.20%\n",
            "Epoch 169/500, Loss: 0.3182, Accuracy: 80.26%\n",
            "Epoch 170/500, Loss: 0.3232, Accuracy: 81.37%\n",
            "Epoch 171/500, Loss: 0.2880, Accuracy: 82.27%\n",
            "Epoch 172/500, Loss: 0.3043, Accuracy: 81.11%\n",
            "Epoch 173/500, Loss: 0.2985, Accuracy: 81.16%\n",
            "Epoch 174/500, Loss: 0.2843, Accuracy: 81.71%\n",
            "Epoch 175/500, Loss: 0.2937, Accuracy: 80.96%\n",
            "Epoch 176/500, Loss: 0.3085, Accuracy: 81.14%\n",
            "Epoch 177/500, Loss: 0.3156, Accuracy: 80.81%\n",
            "Epoch 178/500, Loss: 0.3058, Accuracy: 80.92%\n",
            "Epoch 179/500, Loss: 0.3066, Accuracy: 80.66%\n",
            "Epoch 180/500, Loss: 0.3075, Accuracy: 80.13%\n",
            "Epoch 181/500, Loss: 0.3091, Accuracy: 80.94%\n",
            "Epoch 182/500, Loss: 0.3050, Accuracy: 81.24%\n",
            "Epoch 183/500, Loss: 0.3109, Accuracy: 81.26%\n",
            "Epoch 184/500, Loss: 0.3129, Accuracy: 80.21%\n",
            "Epoch 185/500, Loss: 0.2981, Accuracy: 81.61%\n",
            "Epoch 186/500, Loss: 0.3119, Accuracy: 80.66%\n",
            "Epoch 187/500, Loss: 0.3232, Accuracy: 80.73%\n",
            "Epoch 188/500, Loss: 0.2980, Accuracy: 81.41%\n",
            "Epoch 189/500, Loss: 0.2979, Accuracy: 81.26%\n",
            "Epoch 190/500, Loss: 0.2935, Accuracy: 81.86%\n",
            "Epoch 191/500, Loss: 0.2953, Accuracy: 81.93%\n",
            "Epoch 192/500, Loss: 0.3146, Accuracy: 80.77%\n",
            "Epoch 193/500, Loss: 0.3158, Accuracy: 80.19%\n",
            "Epoch 194/500, Loss: 0.3191, Accuracy: 81.37%\n",
            "Epoch 195/500, Loss: 0.3164, Accuracy: 80.92%\n",
            "Epoch 196/500, Loss: 0.2925, Accuracy: 81.44%\n",
            "Epoch 197/500, Loss: 0.3007, Accuracy: 80.75%\n",
            "Epoch 198/500, Loss: 0.2778, Accuracy: 81.59%\n",
            "Epoch 199/500, Loss: 0.3007, Accuracy: 81.44%\n",
            "Epoch 200/500, Loss: 0.2908, Accuracy: 81.65%\n",
            "Epoch 201/500, Loss: 0.3046, Accuracy: 81.01%\n",
            "Epoch 202/500, Loss: 0.2947, Accuracy: 81.86%\n",
            "Epoch 203/500, Loss: 0.3082, Accuracy: 81.09%\n",
            "Epoch 204/500, Loss: 0.2948, Accuracy: 81.52%\n",
            "Epoch 205/500, Loss: 0.3044, Accuracy: 81.26%\n",
            "Epoch 206/500, Loss: 0.3032, Accuracy: 81.05%\n",
            "Epoch 207/500, Loss: 0.3058, Accuracy: 80.99%\n",
            "Epoch 208/500, Loss: 0.3111, Accuracy: 80.49%\n",
            "Epoch 209/500, Loss: 0.2999, Accuracy: 81.24%\n",
            "Epoch 210/500, Loss: 0.2881, Accuracy: 81.86%\n",
            "Epoch 211/500, Loss: 0.2997, Accuracy: 81.33%\n",
            "Epoch 212/500, Loss: 0.2995, Accuracy: 81.44%\n",
            "Epoch 213/500, Loss: 0.2940, Accuracy: 81.86%\n",
            "Epoch 214/500, Loss: 0.3135, Accuracy: 80.66%\n",
            "Epoch 215/500, Loss: 0.3341, Accuracy: 81.29%\n",
            "Epoch 216/500, Loss: 0.3062, Accuracy: 81.26%\n",
            "Epoch 217/500, Loss: 0.3025, Accuracy: 81.09%\n",
            "Epoch 218/500, Loss: 0.2984, Accuracy: 81.41%\n",
            "Epoch 219/500, Loss: 0.3319, Accuracy: 81.37%\n",
            "Epoch 220/500, Loss: 0.3078, Accuracy: 81.44%\n",
            "Epoch 221/500, Loss: 0.3056, Accuracy: 80.49%\n",
            "Epoch 222/500, Loss: 0.3040, Accuracy: 80.36%\n",
            "Epoch 223/500, Loss: 0.3001, Accuracy: 80.21%\n",
            "Epoch 224/500, Loss: 0.2867, Accuracy: 81.50%\n",
            "Epoch 225/500, Loss: 0.2963, Accuracy: 81.41%\n",
            "Epoch 226/500, Loss: 0.2963, Accuracy: 80.64%\n",
            "Epoch 227/500, Loss: 0.2889, Accuracy: 81.91%\n",
            "Epoch 228/500, Loss: 0.3221, Accuracy: 81.33%\n",
            "Epoch 229/500, Loss: 0.3094, Accuracy: 80.11%\n",
            "Epoch 230/500, Loss: 0.3001, Accuracy: 81.29%\n",
            "Epoch 231/500, Loss: 0.3005, Accuracy: 81.03%\n",
            "Epoch 232/500, Loss: 0.3118, Accuracy: 81.14%\n",
            "Epoch 233/500, Loss: 0.2939, Accuracy: 81.82%\n",
            "Epoch 234/500, Loss: 0.3183, Accuracy: 81.09%\n",
            "Epoch 235/500, Loss: 0.3127, Accuracy: 81.29%\n",
            "Epoch 236/500, Loss: 0.2987, Accuracy: 81.24%\n",
            "Epoch 237/500, Loss: 0.3022, Accuracy: 81.29%\n",
            "Epoch 238/500, Loss: 0.2841, Accuracy: 82.66%\n",
            "Epoch 239/500, Loss: 0.3132, Accuracy: 80.66%\n",
            "Epoch 240/500, Loss: 0.2852, Accuracy: 82.36%\n",
            "Epoch 241/500, Loss: 0.2830, Accuracy: 82.25%\n",
            "Epoch 242/500, Loss: 0.2908, Accuracy: 81.69%\n",
            "Epoch 243/500, Loss: 0.2949, Accuracy: 81.09%\n",
            "Epoch 244/500, Loss: 0.2878, Accuracy: 80.81%\n",
            "Epoch 245/500, Loss: 0.2895, Accuracy: 81.76%\n",
            "Epoch 246/500, Loss: 0.2875, Accuracy: 82.53%\n",
            "Epoch 247/500, Loss: 0.2867, Accuracy: 81.89%\n",
            "Epoch 248/500, Loss: 0.3197, Accuracy: 80.99%\n",
            "Epoch 249/500, Loss: 0.3326, Accuracy: 79.81%\n",
            "Epoch 250/500, Loss: 0.3562, Accuracy: 80.30%\n",
            "Epoch 251/500, Loss: 0.3556, Accuracy: 81.22%\n",
            "Epoch 252/500, Loss: 0.3512, Accuracy: 80.04%\n",
            "Epoch 253/500, Loss: 0.3197, Accuracy: 80.99%\n",
            "Epoch 254/500, Loss: 0.3160, Accuracy: 81.54%\n",
            "Epoch 255/500, Loss: 0.2987, Accuracy: 81.86%\n",
            "Epoch 256/500, Loss: 0.2844, Accuracy: 81.91%\n",
            "Epoch 257/500, Loss: 0.3007, Accuracy: 81.52%\n",
            "Epoch 258/500, Loss: 0.2833, Accuracy: 81.80%\n",
            "Epoch 259/500, Loss: 0.2894, Accuracy: 82.27%\n",
            "Epoch 260/500, Loss: 0.3116, Accuracy: 81.22%\n",
            "Epoch 261/500, Loss: 0.3200, Accuracy: 80.21%\n",
            "Epoch 262/500, Loss: 0.3082, Accuracy: 81.03%\n",
            "Epoch 263/500, Loss: 0.2808, Accuracy: 81.99%\n",
            "Epoch 264/500, Loss: 0.2910, Accuracy: 80.96%\n",
            "Epoch 265/500, Loss: 0.3356, Accuracy: 80.62%\n",
            "Epoch 266/500, Loss: 0.3663, Accuracy: 79.31%\n",
            "Epoch 267/500, Loss: 0.3086, Accuracy: 80.79%\n",
            "Epoch 268/500, Loss: 0.3140, Accuracy: 81.41%\n",
            "Epoch 269/500, Loss: 0.2946, Accuracy: 81.33%\n",
            "Epoch 270/500, Loss: 0.2979, Accuracy: 80.92%\n",
            "Epoch 271/500, Loss: 0.2795, Accuracy: 82.74%\n",
            "Epoch 272/500, Loss: 0.2945, Accuracy: 80.96%\n",
            "Epoch 273/500, Loss: 0.2815, Accuracy: 82.04%\n",
            "Epoch 274/500, Loss: 0.2954, Accuracy: 81.78%\n",
            "Epoch 275/500, Loss: 0.3070, Accuracy: 80.13%\n",
            "Epoch 276/500, Loss: 0.2922, Accuracy: 82.02%\n",
            "Epoch 277/500, Loss: 0.3035, Accuracy: 80.71%\n",
            "Epoch 278/500, Loss: 0.3037, Accuracy: 80.90%\n",
            "Epoch 279/500, Loss: 0.3187, Accuracy: 80.88%\n",
            "Epoch 280/500, Loss: 0.3104, Accuracy: 81.14%\n",
            "Epoch 281/500, Loss: 0.3024, Accuracy: 81.35%\n",
            "Epoch 282/500, Loss: 0.3142, Accuracy: 80.36%\n",
            "Epoch 283/500, Loss: 0.3129, Accuracy: 81.11%\n",
            "Epoch 284/500, Loss: 0.2947, Accuracy: 80.92%\n",
            "Epoch 285/500, Loss: 0.3071, Accuracy: 80.66%\n",
            "Epoch 286/500, Loss: 0.2927, Accuracy: 81.37%\n",
            "Epoch 287/500, Loss: 0.2865, Accuracy: 81.50%\n",
            "Epoch 288/500, Loss: 0.2998, Accuracy: 81.39%\n",
            "Epoch 289/500, Loss: 0.3512, Accuracy: 80.56%\n",
            "Epoch 290/500, Loss: 0.3872, Accuracy: 79.38%\n",
            "Epoch 291/500, Loss: 0.3450, Accuracy: 79.64%\n",
            "Epoch 292/500, Loss: 0.3193, Accuracy: 80.32%\n",
            "Epoch 293/500, Loss: 0.3144, Accuracy: 80.17%\n",
            "Epoch 294/500, Loss: 0.2955, Accuracy: 81.46%\n",
            "Epoch 295/500, Loss: 0.2901, Accuracy: 81.41%\n",
            "Epoch 296/500, Loss: 0.2988, Accuracy: 81.61%\n",
            "Epoch 297/500, Loss: 0.2929, Accuracy: 81.54%\n",
            "Epoch 298/500, Loss: 0.3024, Accuracy: 81.48%\n",
            "Epoch 299/500, Loss: 0.2937, Accuracy: 81.76%\n",
            "Epoch 300/500, Loss: 0.3043, Accuracy: 81.24%\n",
            "Epoch 301/500, Loss: 0.3052, Accuracy: 81.14%\n",
            "Epoch 302/500, Loss: 0.2984, Accuracy: 81.56%\n",
            "Epoch 303/500, Loss: 0.2872, Accuracy: 81.22%\n",
            "Epoch 304/500, Loss: 0.2791, Accuracy: 82.25%\n",
            "Epoch 305/500, Loss: 0.2938, Accuracy: 82.27%\n",
            "Epoch 306/500, Loss: 0.3065, Accuracy: 81.18%\n",
            "Epoch 307/500, Loss: 0.3090, Accuracy: 80.92%\n",
            "Epoch 308/500, Loss: 0.3050, Accuracy: 81.20%\n",
            "Epoch 309/500, Loss: 0.2912, Accuracy: 81.65%\n",
            "Epoch 310/500, Loss: 0.3003, Accuracy: 81.67%\n",
            "Epoch 311/500, Loss: 0.2986, Accuracy: 81.37%\n",
            "Epoch 312/500, Loss: 0.2974, Accuracy: 81.59%\n",
            "Epoch 313/500, Loss: 0.3245, Accuracy: 80.88%\n",
            "Epoch 314/500, Loss: 0.3217, Accuracy: 80.60%\n",
            "Epoch 315/500, Loss: 0.3076, Accuracy: 81.35%\n",
            "Epoch 316/500, Loss: 0.3051, Accuracy: 82.19%\n",
            "Epoch 317/500, Loss: 0.3143, Accuracy: 81.52%\n",
            "Epoch 318/500, Loss: 0.3011, Accuracy: 81.09%\n",
            "Epoch 319/500, Loss: 0.2955, Accuracy: 81.95%\n",
            "Epoch 320/500, Loss: 0.2887, Accuracy: 81.50%\n",
            "Epoch 321/500, Loss: 0.2901, Accuracy: 82.34%\n",
            "Epoch 322/500, Loss: 0.2866, Accuracy: 82.17%\n",
            "Epoch 323/500, Loss: 0.3166, Accuracy: 81.69%\n",
            "Epoch 324/500, Loss: 0.3086, Accuracy: 80.32%\n",
            "Epoch 325/500, Loss: 0.3001, Accuracy: 81.69%\n",
            "Epoch 326/500, Loss: 0.3424, Accuracy: 81.18%\n",
            "Epoch 327/500, Loss: 0.3114, Accuracy: 81.11%\n",
            "Epoch 328/500, Loss: 0.3012, Accuracy: 81.67%\n",
            "Epoch 329/500, Loss: 0.2938, Accuracy: 81.20%\n",
            "Epoch 330/500, Loss: 0.3072, Accuracy: 80.94%\n",
            "Epoch 331/500, Loss: 0.2921, Accuracy: 81.71%\n",
            "Epoch 332/500, Loss: 0.2810, Accuracy: 81.91%\n",
            "Epoch 333/500, Loss: 0.2756, Accuracy: 82.70%\n",
            "Epoch 334/500, Loss: 0.2893, Accuracy: 81.41%\n",
            "Epoch 335/500, Loss: 0.3008, Accuracy: 81.05%\n",
            "Epoch 336/500, Loss: 0.3218, Accuracy: 80.96%\n",
            "Epoch 337/500, Loss: 0.3161, Accuracy: 80.62%\n",
            "Epoch 338/500, Loss: 0.3023, Accuracy: 81.56%\n",
            "Epoch 339/500, Loss: 0.2961, Accuracy: 81.89%\n",
            "Epoch 340/500, Loss: 0.3421, Accuracy: 79.72%\n",
            "Epoch 341/500, Loss: 0.3150, Accuracy: 80.71%\n",
            "Epoch 342/500, Loss: 0.3241, Accuracy: 80.36%\n",
            "Epoch 343/500, Loss: 0.3317, Accuracy: 80.64%\n",
            "Epoch 344/500, Loss: 0.3407, Accuracy: 80.86%\n",
            "Epoch 345/500, Loss: 0.3208, Accuracy: 81.29%\n",
            "Epoch 346/500, Loss: 0.3042, Accuracy: 81.63%\n",
            "Epoch 347/500, Loss: 0.2850, Accuracy: 81.67%\n",
            "Epoch 348/500, Loss: 0.2788, Accuracy: 82.19%\n",
            "Epoch 349/500, Loss: 0.2859, Accuracy: 81.01%\n",
            "Epoch 350/500, Loss: 0.2994, Accuracy: 81.52%\n",
            "Epoch 351/500, Loss: 0.2881, Accuracy: 81.24%\n",
            "Epoch 352/500, Loss: 0.2870, Accuracy: 81.48%\n",
            "Epoch 353/500, Loss: 0.2974, Accuracy: 81.33%\n",
            "Epoch 354/500, Loss: 0.2939, Accuracy: 81.33%\n",
            "Epoch 355/500, Loss: 0.2834, Accuracy: 81.78%\n",
            "Epoch 356/500, Loss: 0.2977, Accuracy: 81.07%\n",
            "Epoch 357/500, Loss: 0.2868, Accuracy: 82.29%\n",
            "Epoch 358/500, Loss: 0.2917, Accuracy: 81.31%\n",
            "Epoch 359/500, Loss: 0.2909, Accuracy: 80.54%\n",
            "Epoch 360/500, Loss: 0.2871, Accuracy: 81.24%\n",
            "Epoch 361/500, Loss: 0.2880, Accuracy: 81.76%\n",
            "Epoch 362/500, Loss: 0.2777, Accuracy: 82.62%\n",
            "Epoch 363/500, Loss: 0.3081, Accuracy: 81.29%\n",
            "Epoch 364/500, Loss: 0.3438, Accuracy: 81.16%\n",
            "Epoch 365/500, Loss: 0.4698, Accuracy: 79.91%\n",
            "Epoch 366/500, Loss: 0.4010, Accuracy: 80.54%\n",
            "Epoch 367/500, Loss: 0.3181, Accuracy: 80.45%\n",
            "Epoch 368/500, Loss: 0.3161, Accuracy: 81.71%\n",
            "Epoch 369/500, Loss: 0.2918, Accuracy: 82.38%\n",
            "Epoch 370/500, Loss: 0.2916, Accuracy: 81.22%\n",
            "Epoch 371/500, Loss: 0.3092, Accuracy: 80.92%\n",
            "Epoch 372/500, Loss: 0.2920, Accuracy: 82.51%\n",
            "Epoch 373/500, Loss: 0.3256, Accuracy: 80.86%\n",
            "Epoch 374/500, Loss: 0.2941, Accuracy: 82.64%\n",
            "Epoch 375/500, Loss: 0.2939, Accuracy: 81.91%\n",
            "Epoch 376/500, Loss: 0.3011, Accuracy: 80.79%\n",
            "Epoch 377/500, Loss: 0.2828, Accuracy: 81.86%\n",
            "Epoch 378/500, Loss: 0.2969, Accuracy: 81.26%\n",
            "Epoch 379/500, Loss: 0.2733, Accuracy: 82.96%\n",
            "Epoch 380/500, Loss: 0.2863, Accuracy: 81.93%\n",
            "Epoch 381/500, Loss: 0.2885, Accuracy: 80.96%\n",
            "Epoch 382/500, Loss: 0.2832, Accuracy: 81.61%\n",
            "Epoch 383/500, Loss: 0.2859, Accuracy: 81.59%\n",
            "Epoch 384/500, Loss: 0.2818, Accuracy: 81.61%\n",
            "Epoch 385/500, Loss: 0.2947, Accuracy: 81.76%\n",
            "Epoch 386/500, Loss: 0.2893, Accuracy: 81.69%\n",
            "Epoch 387/500, Loss: 0.3047, Accuracy: 80.58%\n",
            "Epoch 388/500, Loss: 0.3018, Accuracy: 82.19%\n",
            "Epoch 389/500, Loss: 0.3016, Accuracy: 80.64%\n",
            "Epoch 390/500, Loss: 0.2748, Accuracy: 82.64%\n",
            "Epoch 391/500, Loss: 0.2916, Accuracy: 81.82%\n",
            "Epoch 392/500, Loss: 0.3674, Accuracy: 80.66%\n",
            "Epoch 393/500, Loss: 0.3819, Accuracy: 80.00%\n",
            "Epoch 394/500, Loss: 0.3285, Accuracy: 81.11%\n",
            "Epoch 395/500, Loss: 0.2970, Accuracy: 82.06%\n",
            "Epoch 396/500, Loss: 0.3142, Accuracy: 80.60%\n",
            "Epoch 397/500, Loss: 0.3106, Accuracy: 81.71%\n",
            "Epoch 398/500, Loss: 0.3085, Accuracy: 80.94%\n",
            "Epoch 399/500, Loss: 0.3145, Accuracy: 81.16%\n",
            "Epoch 400/500, Loss: 0.3011, Accuracy: 81.69%\n",
            "Epoch 401/500, Loss: 0.2871, Accuracy: 82.47%\n",
            "Epoch 402/500, Loss: 0.2907, Accuracy: 82.40%\n",
            "Epoch 403/500, Loss: 0.2982, Accuracy: 80.96%\n",
            "Epoch 404/500, Loss: 0.2860, Accuracy: 81.76%\n",
            "Epoch 405/500, Loss: 0.2938, Accuracy: 81.63%\n",
            "Epoch 406/500, Loss: 0.2944, Accuracy: 81.11%\n",
            "Epoch 407/500, Loss: 0.2885, Accuracy: 81.65%\n",
            "Epoch 408/500, Loss: 0.2998, Accuracy: 81.82%\n",
            "Epoch 409/500, Loss: 0.3282, Accuracy: 80.84%\n",
            "Epoch 410/500, Loss: 0.3068, Accuracy: 80.71%\n",
            "Epoch 411/500, Loss: 0.3043, Accuracy: 81.63%\n",
            "Epoch 412/500, Loss: 0.3068, Accuracy: 80.86%\n",
            "Epoch 413/500, Loss: 0.2961, Accuracy: 82.19%\n",
            "Epoch 414/500, Loss: 0.3143, Accuracy: 80.47%\n",
            "Epoch 415/500, Loss: 0.2984, Accuracy: 81.33%\n",
            "Epoch 416/500, Loss: 0.3135, Accuracy: 81.11%\n",
            "Epoch 417/500, Loss: 0.3063, Accuracy: 81.86%\n",
            "Epoch 418/500, Loss: 0.3141, Accuracy: 81.03%\n",
            "Epoch 419/500, Loss: 0.2984, Accuracy: 81.67%\n",
            "Epoch 420/500, Loss: 0.3104, Accuracy: 80.96%\n",
            "Epoch 421/500, Loss: 0.3032, Accuracy: 81.65%\n",
            "Epoch 422/500, Loss: 0.3300, Accuracy: 81.22%\n",
            "Epoch 423/500, Loss: 0.3140, Accuracy: 80.84%\n",
            "Epoch 424/500, Loss: 0.3293, Accuracy: 80.88%\n",
            "Epoch 425/500, Loss: 0.3535, Accuracy: 80.47%\n",
            "Epoch 426/500, Loss: 0.3437, Accuracy: 80.13%\n",
            "Epoch 427/500, Loss: 0.3125, Accuracy: 81.41%\n",
            "Epoch 428/500, Loss: 0.3011, Accuracy: 80.73%\n",
            "Epoch 429/500, Loss: 0.2904, Accuracy: 81.29%\n",
            "Epoch 430/500, Loss: 0.3000, Accuracy: 81.82%\n",
            "Epoch 431/500, Loss: 0.2897, Accuracy: 81.26%\n",
            "Epoch 432/500, Loss: 0.2796, Accuracy: 81.65%\n",
            "Epoch 433/500, Loss: 0.2994, Accuracy: 80.73%\n",
            "Epoch 434/500, Loss: 0.2807, Accuracy: 82.25%\n",
            "Epoch 435/500, Loss: 0.2828, Accuracy: 81.93%\n",
            "Epoch 436/500, Loss: 0.2808, Accuracy: 82.38%\n",
            "Epoch 437/500, Loss: 0.3185, Accuracy: 81.01%\n",
            "Epoch 438/500, Loss: 0.3145, Accuracy: 81.46%\n",
            "Epoch 439/500, Loss: 0.3203, Accuracy: 81.41%\n",
            "Epoch 440/500, Loss: 0.3041, Accuracy: 81.50%\n",
            "Epoch 441/500, Loss: 0.3002, Accuracy: 81.82%\n",
            "Epoch 442/500, Loss: 0.3154, Accuracy: 81.89%\n",
            "Epoch 443/500, Loss: 0.3042, Accuracy: 82.34%\n",
            "Epoch 444/500, Loss: 0.3222, Accuracy: 81.24%\n",
            "Epoch 445/500, Loss: 0.3119, Accuracy: 80.71%\n",
            "Epoch 446/500, Loss: 0.3397, Accuracy: 80.81%\n",
            "Epoch 447/500, Loss: 0.3109, Accuracy: 80.73%\n",
            "Epoch 448/500, Loss: 0.2997, Accuracy: 81.46%\n",
            "Epoch 449/500, Loss: 0.3052, Accuracy: 81.80%\n",
            "Epoch 450/500, Loss: 0.2975, Accuracy: 81.50%\n",
            "Epoch 451/500, Loss: 0.2827, Accuracy: 82.25%\n",
            "Epoch 452/500, Loss: 0.2932, Accuracy: 81.03%\n",
            "Epoch 453/500, Loss: 0.2821, Accuracy: 81.89%\n",
            "Epoch 454/500, Loss: 0.2900, Accuracy: 81.63%\n",
            "Epoch 455/500, Loss: 0.2857, Accuracy: 81.89%\n",
            "Epoch 456/500, Loss: 0.2936, Accuracy: 80.99%\n",
            "Epoch 457/500, Loss: 0.2896, Accuracy: 81.52%\n",
            "Epoch 458/500, Loss: 0.2928, Accuracy: 81.99%\n",
            "Epoch 459/500, Loss: 0.3018, Accuracy: 80.94%\n",
            "Epoch 460/500, Loss: 0.2995, Accuracy: 81.99%\n",
            "Epoch 461/500, Loss: 0.3073, Accuracy: 81.22%\n",
            "Epoch 462/500, Loss: 0.3254, Accuracy: 80.45%\n",
            "Epoch 463/500, Loss: 0.3220, Accuracy: 81.59%\n",
            "Epoch 464/500, Loss: 0.3197, Accuracy: 81.71%\n",
            "Epoch 465/500, Loss: 0.3167, Accuracy: 81.76%\n",
            "Epoch 466/500, Loss: 0.3178, Accuracy: 80.71%\n",
            "Epoch 467/500, Loss: 0.2997, Accuracy: 81.76%\n",
            "Epoch 468/500, Loss: 0.3004, Accuracy: 81.09%\n",
            "Epoch 469/500, Loss: 0.3035, Accuracy: 81.03%\n",
            "Epoch 470/500, Loss: 0.2857, Accuracy: 82.02%\n",
            "Epoch 471/500, Loss: 0.2951, Accuracy: 81.44%\n",
            "Epoch 472/500, Loss: 0.2970, Accuracy: 82.04%\n",
            "Epoch 473/500, Loss: 0.2930, Accuracy: 82.08%\n",
            "Epoch 474/500, Loss: 0.2972, Accuracy: 82.21%\n",
            "Epoch 475/500, Loss: 0.3072, Accuracy: 81.50%\n",
            "Epoch 476/500, Loss: 0.2924, Accuracy: 81.48%\n",
            "Epoch 477/500, Loss: 0.2955, Accuracy: 82.14%\n",
            "Epoch 478/500, Loss: 0.2694, Accuracy: 82.57%\n",
            "Epoch 479/500, Loss: 0.3023, Accuracy: 81.07%\n",
            "Epoch 480/500, Loss: 0.2903, Accuracy: 81.33%\n",
            "Epoch 481/500, Loss: 0.3211, Accuracy: 80.69%\n",
            "Epoch 482/500, Loss: 0.3334, Accuracy: 80.60%\n",
            "Epoch 483/500, Loss: 0.3947, Accuracy: 80.21%\n",
            "Epoch 484/500, Loss: 0.3228, Accuracy: 81.03%\n",
            "Epoch 485/500, Loss: 0.3126, Accuracy: 81.39%\n",
            "Epoch 486/500, Loss: 0.2996, Accuracy: 81.65%\n",
            "Epoch 487/500, Loss: 0.3001, Accuracy: 82.36%\n",
            "Epoch 488/500, Loss: 0.2987, Accuracy: 82.42%\n",
            "Epoch 489/500, Loss: 0.2907, Accuracy: 81.97%\n",
            "Epoch 490/500, Loss: 0.2944, Accuracy: 81.99%\n",
            "Epoch 491/500, Loss: 0.3019, Accuracy: 80.79%\n",
            "Epoch 492/500, Loss: 0.2909, Accuracy: 82.62%\n",
            "Epoch 493/500, Loss: 0.3051, Accuracy: 81.67%\n",
            "Epoch 494/500, Loss: 0.3149, Accuracy: 80.99%\n",
            "Epoch 495/500, Loss: 0.3096, Accuracy: 81.03%\n",
            "Epoch 496/500, Loss: 0.2935, Accuracy: 81.11%\n",
            "Epoch 497/500, Loss: 0.3184, Accuracy: 81.35%\n",
            "Epoch 498/500, Loss: 0.3021, Accuracy: 82.14%\n",
            "Epoch 499/500, Loss: 0.3344, Accuracy: 81.07%\n",
            "Epoch 500/500, Loss: 0.3140, Accuracy: 81.74%\n",
            "Average Loss: 0.31399694907959125\n",
            "Highest Train Accuracy:82.96\n"
          ]
        }
      ]
    },
    {
      "cell_type": "markdown",
      "source": [
        "##Evaluating Model"
      ],
      "metadata": {
        "id": "SSJmDY98Fsf5"
      }
    },
    {
      "cell_type": "code",
      "source": [
        "classes_list = ['Left', 'Right', 'Foot', 'Tongue']\n",
        "eval_model = EvalModel(trained_msctaan_model)\n",
        "test_accuracy = eval_model.test_model(test_dataset)\n",
        "eval_model.plot_confusion_matrix(test_dataset, classes_list)"
      ],
      "metadata": {
        "id": "Zol5nHGkFw7f"
      },
      "execution_count": null,
      "outputs": []
    }
  ]
}